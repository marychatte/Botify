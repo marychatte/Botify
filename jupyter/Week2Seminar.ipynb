{
 "cells": [
  {
   "cell_type": "code",
   "execution_count": 1,
   "metadata": {
    "tags": []
   },
   "outputs": [],
   "source": [
    "import json\n",
    "import random\n",
    "from collections import namedtuple\n",
    "\n",
    "import pandas as pd\n",
    "import numpy as np\n",
    "import scipy.stats as ss\n",
    "\n",
    "import matplotlib.pyplot as plt\n",
    "\n",
    "%matplotlib inline"
   ]
  },
  {
   "cell_type": "code",
   "execution_count": 2,
   "metadata": {},
   "outputs": [
    {
     "data": {
      "text/html": [
       "<div>\n",
       "<style scoped>\n",
       "    .dataframe tbody tr th:only-of-type {\n",
       "        vertical-align: middle;\n",
       "    }\n",
       "\n",
       "    .dataframe tbody tr th {\n",
       "        vertical-align: top;\n",
       "    }\n",
       "\n",
       "    .dataframe thead th {\n",
       "        text-align: right;\n",
       "    }\n",
       "</style>\n",
       "<table border=\"1\" class=\"dataframe\">\n",
       "  <thead>\n",
       "    <tr style=\"text-align: right;\">\n",
       "      <th></th>\n",
       "      <th>message</th>\n",
       "      <th>timestamp</th>\n",
       "      <th>user</th>\n",
       "      <th>track</th>\n",
       "      <th>time</th>\n",
       "      <th>latency</th>\n",
       "      <th>recommendation</th>\n",
       "      <th>experiments</th>\n",
       "      <th>rnd</th>\n",
       "    </tr>\n",
       "  </thead>\n",
       "  <tbody>\n",
       "    <tr>\n",
       "      <th>0</th>\n",
       "      <td>next</td>\n",
       "      <td>2022-02-28 08:57:07.615</td>\n",
       "      <td>3255</td>\n",
       "      <td>2659</td>\n",
       "      <td>1.00</td>\n",
       "      <td>0.000844</td>\n",
       "      <td>37339.0</td>\n",
       "      <td>{'AA': 'C'}</td>\n",
       "      <td>0.564124</td>\n",
       "    </tr>\n",
       "    <tr>\n",
       "      <th>1</th>\n",
       "      <td>next</td>\n",
       "      <td>2022-02-28 08:57:07.623</td>\n",
       "      <td>3255</td>\n",
       "      <td>37339</td>\n",
       "      <td>0.19</td>\n",
       "      <td>0.000575</td>\n",
       "      <td>716.0</td>\n",
       "      <td>{'AA': 'C'}</td>\n",
       "      <td>0.211991</td>\n",
       "    </tr>\n",
       "    <tr>\n",
       "      <th>2</th>\n",
       "      <td>next</td>\n",
       "      <td>2022-02-28 08:57:07.632</td>\n",
       "      <td>3255</td>\n",
       "      <td>716</td>\n",
       "      <td>0.09</td>\n",
       "      <td>0.000542</td>\n",
       "      <td>47125.0</td>\n",
       "      <td>{'AA': 'C'}</td>\n",
       "      <td>0.408449</td>\n",
       "    </tr>\n",
       "    <tr>\n",
       "      <th>3</th>\n",
       "      <td>next</td>\n",
       "      <td>2022-02-28 08:57:07.639</td>\n",
       "      <td>3255</td>\n",
       "      <td>47125</td>\n",
       "      <td>0.01</td>\n",
       "      <td>0.000591</td>\n",
       "      <td>22144.0</td>\n",
       "      <td>{'AA': 'C'}</td>\n",
       "      <td>0.800407</td>\n",
       "    </tr>\n",
       "    <tr>\n",
       "      <th>4</th>\n",
       "      <td>next</td>\n",
       "      <td>2022-02-28 08:57:07.646</td>\n",
       "      <td>3255</td>\n",
       "      <td>22144</td>\n",
       "      <td>0.03</td>\n",
       "      <td>0.000538</td>\n",
       "      <td>33057.0</td>\n",
       "      <td>{'AA': 'C'}</td>\n",
       "      <td>0.311385</td>\n",
       "    </tr>\n",
       "  </tbody>\n",
       "</table>\n",
       "</div>"
      ],
      "text/plain": [
       "  message               timestamp  user  track  time   latency  \\\n",
       "0    next 2022-02-28 08:57:07.615  3255   2659  1.00  0.000844   \n",
       "1    next 2022-02-28 08:57:07.623  3255  37339  0.19  0.000575   \n",
       "2    next 2022-02-28 08:57:07.632  3255    716  0.09  0.000542   \n",
       "3    next 2022-02-28 08:57:07.639  3255  47125  0.01  0.000591   \n",
       "4    next 2022-02-28 08:57:07.646  3255  22144  0.03  0.000538   \n",
       "\n",
       "   recommendation  experiments       rnd  \n",
       "0         37339.0  {'AA': 'C'}  0.564124  \n",
       "1           716.0  {'AA': 'C'}  0.211991  \n",
       "2         47125.0  {'AA': 'C'}  0.408449  \n",
       "3         22144.0  {'AA': 'C'}  0.800407  \n",
       "4         33057.0  {'AA': 'C'}  0.311385  "
      ]
     },
     "execution_count": 2,
     "metadata": {},
     "output_type": "execute_result"
    }
   ],
   "source": [
    "data = pd.read_json(\"/Users/n.anokhin/Desktop/seminar-2-data.json\", lines=True)\n",
    "data[\"rnd\"] = np.random.random(len(data))\n",
    "\n",
    "data.head()"
   ]
  },
  {
   "cell_type": "markdown",
   "metadata": {},
   "source": [
    "## Compute track popularity"
   ]
  },
  {
   "cell_type": "code",
   "execution_count": 4,
   "metadata": {
    "tags": []
   },
   "outputs": [
    {
     "data": {
      "text/html": [
       "<div>\n",
       "<style scoped>\n",
       "    .dataframe tbody tr th:only-of-type {\n",
       "        vertical-align: middle;\n",
       "    }\n",
       "\n",
       "    .dataframe tbody tr th {\n",
       "        vertical-align: top;\n",
       "    }\n",
       "\n",
       "    .dataframe thead th {\n",
       "        text-align: right;\n",
       "    }\n",
       "</style>\n",
       "<table border=\"1\" class=\"dataframe\">\n",
       "  <thead>\n",
       "    <tr style=\"text-align: right;\">\n",
       "      <th></th>\n",
       "      <th>track</th>\n",
       "      <th>time</th>\n",
       "    </tr>\n",
       "  </thead>\n",
       "  <tbody>\n",
       "    <tr>\n",
       "      <th>0</th>\n",
       "      <td>246</td>\n",
       "      <td>35.93</td>\n",
       "    </tr>\n",
       "    <tr>\n",
       "      <th>1</th>\n",
       "      <td>171</td>\n",
       "      <td>22.00</td>\n",
       "    </tr>\n",
       "    <tr>\n",
       "      <th>2</th>\n",
       "      <td>177</td>\n",
       "      <td>21.04</td>\n",
       "    </tr>\n",
       "    <tr>\n",
       "      <th>3</th>\n",
       "      <td>1159</td>\n",
       "      <td>20.00</td>\n",
       "    </tr>\n",
       "    <tr>\n",
       "      <th>4</th>\n",
       "      <td>176</td>\n",
       "      <td>20.00</td>\n",
       "    </tr>\n",
       "  </tbody>\n",
       "</table>\n",
       "</div>"
      ],
      "text/plain": [
       "   track   time\n",
       "0    246  35.93\n",
       "1    171  22.00\n",
       "2    177  21.04\n",
       "3   1159  20.00\n",
       "4    176  20.00"
      ]
     },
     "execution_count": 4,
     "metadata": {},
     "output_type": "execute_result"
    }
   ],
   "source": [
    "track_popularity = (\n",
    "    data[data[\"rnd\"] > 0.5]\n",
    "    .groupby(\"track\")[\"time\"]\n",
    "    .sum()\n",
    "    .to_frame()\n",
    "    .sort_values(\"time\", ascending=False)\n",
    "    .reset_index()\n",
    ")\n",
    "\n",
    "track_popularity.head()"
   ]
  },
  {
   "cell_type": "code",
   "execution_count": 5,
   "metadata": {},
   "outputs": [
    {
     "data": {
      "text/plain": [
       "[<matplotlib.lines.Line2D at 0x12f8a8510>]"
      ]
     },
     "execution_count": 5,
     "metadata": {},
     "output_type": "execute_result"
    },
    {
     "data": {
      "image/png": "[encoded data removed]",
      "text/plain": [
       "<Figure size 1440x360 with 1 Axes>"
      ]
     },
     "metadata": {
      "needs_background": "light"
     },
     "output_type": "display_data"
    }
   ],
   "source": [
    "fig, ax = plt.subplots(figsize=(20, 5))\n",
    "\n",
    "ax.plot(track_popularity.index.values, track_popularity[\"time\"].values)"
   ]
  },
  {
   "cell_type": "markdown",
   "metadata": {},
   "source": [
    "## Compute offline metrics"
   ]
  },
  {
   "cell_type": "code",
   "execution_count": 6,
   "metadata": {
    "tags": []
   },
   "outputs": [],
   "source": [
    "def precision_at(recommendations, track, k):\n",
    "    return 1.0 / k * int(track in recommendations[:k])\n",
    "\n",
    "\n",
    "    \n",
    "def shuffled_precision_at(recommendations, track, k):\n",
    "    shuffled = list(recommendations)\n",
    "    random.shuffle(shuffled)\n",
    "    return precision_at(shuffled, track, k)\n",
    "\n",
    "\n",
    "# TODO 1: Implement MRR metric here"
   ]
  },
  {
   "cell_type": "code",
   "execution_count": 7,
   "metadata": {
    "tags": []
   },
   "outputs": [],
   "source": [
    "tracks = track_popularity[\"track\"].tolist()\n",
    "\n",
    "t_p_10_udf = lambda track: precision_at(tracks, track, 10)\n",
    "st_10_p_10_udf = lambda track: shuffled_precision_at(tracks[:10], track, 10)\n",
    "st_100_p_10_udf = lambda track: shuffled_precision_at(tracks[:100], track, 10)\n",
    "st_1000_p_10_udf = lambda track: shuffled_precision_at(tracks[:1000], track, 10)\n",
    "\n",
    "\n",
    "metrics = data[(data[\"rnd\"] <= 0.5) & (data[\"time\"] >= 0.75)].copy()\n",
    "\n",
    "metrics[\"t_p_10_udf\"] = metrics[\"track\"].map(t_p_10_udf)\n",
    "metrics[\"st_10_p_10_udf\"] = metrics[\"track\"].map(st_10_p_10_udf)\n",
    "metrics[\"st_100_p_10_udf\"] = metrics[\"track\"].map(st_100_p_10_udf)\n",
    "metrics[\"st_1000_p_10_udf\"] = metrics[\"track\"].map(st_1000_p_10_udf)"
   ]
  },
  {
   "cell_type": "code",
   "execution_count": 8,
   "metadata": {},
   "outputs": [
    {
     "data": {
      "text/html": [
       "<div>\n",
       "<style scoped>\n",
       "    .dataframe tbody tr th:only-of-type {\n",
       "        vertical-align: middle;\n",
       "    }\n",
       "\n",
       "    .dataframe tbody tr th {\n",
       "        vertical-align: top;\n",
       "    }\n",
       "\n",
       "    .dataframe thead th {\n",
       "        text-align: right;\n",
       "    }\n",
       "</style>\n",
       "<table border=\"1\" class=\"dataframe\">\n",
       "  <thead>\n",
       "    <tr style=\"text-align: right;\">\n",
       "      <th></th>\n",
       "      <th>t_p_10_udf</th>\n",
       "      <th>st_10_p_10_udf</th>\n",
       "      <th>st_100_p_10_udf</th>\n",
       "      <th>st_1000_p_10_udf</th>\n",
       "    </tr>\n",
       "  </thead>\n",
       "  <tbody>\n",
       "    <tr>\n",
       "      <th>count</th>\n",
       "      <td>16912.000000</td>\n",
       "      <td>16912.000000</td>\n",
       "      <td>16912.000000</td>\n",
       "      <td>16912.000000</td>\n",
       "    </tr>\n",
       "    <tr>\n",
       "      <th>mean</th>\n",
       "      <td>0.001171</td>\n",
       "      <td>0.001171</td>\n",
       "      <td>0.000491</td>\n",
       "      <td>0.000112</td>\n",
       "    </tr>\n",
       "    <tr>\n",
       "      <th>std</th>\n",
       "      <td>0.010757</td>\n",
       "      <td>0.010757</td>\n",
       "      <td>0.006989</td>\n",
       "      <td>0.003350</td>\n",
       "    </tr>\n",
       "    <tr>\n",
       "      <th>min</th>\n",
       "      <td>0.000000</td>\n",
       "      <td>0.000000</td>\n",
       "      <td>0.000000</td>\n",
       "      <td>0.000000</td>\n",
       "    </tr>\n",
       "    <tr>\n",
       "      <th>25%</th>\n",
       "      <td>0.000000</td>\n",
       "      <td>0.000000</td>\n",
       "      <td>0.000000</td>\n",
       "      <td>0.000000</td>\n",
       "    </tr>\n",
       "    <tr>\n",
       "      <th>50%</th>\n",
       "      <td>0.000000</td>\n",
       "      <td>0.000000</td>\n",
       "      <td>0.000000</td>\n",
       "      <td>0.000000</td>\n",
       "    </tr>\n",
       "    <tr>\n",
       "      <th>75%</th>\n",
       "      <td>0.000000</td>\n",
       "      <td>0.000000</td>\n",
       "      <td>0.000000</td>\n",
       "      <td>0.000000</td>\n",
       "    </tr>\n",
       "    <tr>\n",
       "      <th>max</th>\n",
       "      <td>0.100000</td>\n",
       "      <td>0.100000</td>\n",
       "      <td>0.100000</td>\n",
       "      <td>0.100000</td>\n",
       "    </tr>\n",
       "  </tbody>\n",
       "</table>\n",
       "</div>"
      ],
      "text/plain": [
       "         t_p_10_udf  st_10_p_10_udf  st_100_p_10_udf  st_1000_p_10_udf\n",
       "count  16912.000000    16912.000000     16912.000000      16912.000000\n",
       "mean       0.001171        0.001171         0.000491          0.000112\n",
       "std        0.010757        0.010757         0.006989          0.003350\n",
       "min        0.000000        0.000000         0.000000          0.000000\n",
       "25%        0.000000        0.000000         0.000000          0.000000\n",
       "50%        0.000000        0.000000         0.000000          0.000000\n",
       "75%        0.000000        0.000000         0.000000          0.000000\n",
       "max        0.100000        0.100000         0.100000          0.100000"
      ]
     },
     "execution_count": 8,
     "metadata": {},
     "output_type": "execute_result"
    }
   ],
   "source": [
    "metrics[[\"t_p_10_udf\", \"st_10_p_10_udf\", \"st_100_p_10_udf\", \"st_1000_p_10_udf\"]].describe()"
   ]
  },
  {
   "cell_type": "markdown",
   "metadata": {},
   "source": [
    "## Export data for prod"
   ]
  },
  {
   "cell_type": "code",
   "execution_count": 9,
   "metadata": {},
   "outputs": [],
   "source": [
    "with open(\"/Users/n.anokhin/Desktop/top_tracks.json\", \"w\") as top_tracks_file:\n",
    "    json.dump(track_popularity[\"track\"].tolist(), top_tracks_file)"
   ]
  },
  {
   "cell_type": "code",
   "execution_count": null,
   "metadata": {},
   "outputs": [],
   "source": []
  }
 ],
 "metadata": {
  "kernelspec": {
   "display_name": "Python 3 (ipykernel)",
   "language": "python",
   "name": "python3"
  },
  "language_info": {
   "codemirror_mode": {
    "name": "ipython",
    "version": 3
   },
   "file_extension": ".py",
   "mimetype": "text/x-python",
   "name": "python",
   "nbconvert_exporter": "python",
   "pygments_lexer": "ipython3",
   "version": "3.7.5"
  }
 },
 "nbformat": 4,
 "nbformat_minor": 4
}
