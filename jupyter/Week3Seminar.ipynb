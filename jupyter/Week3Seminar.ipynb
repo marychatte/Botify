{
 "cells": [
  {
   "cell_type": "code",
   "execution_count": 1,
   "metadata": {},
   "outputs": [
    {
     "name": "stderr",
     "output_type": "stream",
     "text": [
      "/Users/n.anokhin/Projects/virtualenv/recsys-course-itmo-2022/lib/python3.7/site-packages/lightfm/_lightfm_fast.py:10: UserWarning: LightFM was compiled without OpenMP support. Only a single thread will be used.\n",
      "  \"LightFM was compiled without OpenMP support. \"\n"
     ]
    }
   ],
   "source": [
    "import pandas as pd\n",
    "import numpy as np\n",
    "import scipy.stats as ss\n",
    "\n",
    "import lightfm\n",
    "import lightfm.data as ld\n",
    "import lightfm.evaluation as lv\n",
    "\n",
    "import tqdm\n",
    "import json\n",
    "import optuna\n",
    "\n",
    "import tensorboardX as tb\n",
    "\n",
    "import matplotlib.pyplot as pl\n",
    "import seaborn as sns\n",
    "\n",
    "np.random.seed(31337)"
   ]
  },
  {
   "cell_type": "code",
   "execution_count": 2,
   "metadata": {},
   "outputs": [],
   "source": [
    "DATA_DIR = \"/Users/n.anokhin/Desktop/\""
   ]
  },
  {
   "cell_type": "code",
   "execution_count": 17,
   "metadata": {},
   "outputs": [],
   "source": [
    "data = pd.read_json(DATA_DIR + \"data.json\", lines=True).drop_duplicates(subset=[\"user\", \"track\"])\n",
    "\n",
    "positives = data[data[\"time\"] > 0.8].copy()\n",
    "positives[\"test\"] = np.random.random(len(positives)) > 0.8"
   ]
  },
  {
   "cell_type": "markdown",
   "metadata": {},
   "source": [
    "## Train LightFM"
   ]
  },
  {
   "cell_type": "code",
   "execution_count": 19,
   "metadata": {},
   "outputs": [],
   "source": [
    "train_data = positives[~positives[\"test\"]]\n",
    "test_data = positives[positives[\"test\"]]"
   ]
  },
  {
   "cell_type": "code",
   "execution_count": 20,
   "metadata": {},
   "outputs": [],
   "source": [
    "dataset = ld.Dataset()\n",
    "dataset.fit(positives[\"user\"], positives[\"track\"])"
   ]
  },
  {
   "cell_type": "code",
   "execution_count": 21,
   "metadata": {},
   "outputs": [],
   "source": [
    "train_interactions, _ = dataset.build_interactions(train_data[[\"user\", \"track\"]].itertuples(index=False, name=None))\n",
    "test_interactions, _ = dataset.build_interactions(test_data[[\"user\", \"track\"]].itertuples(index=False, name=None))"
   ]
  },
  {
   "cell_type": "code",
   "execution_count": 22,
   "metadata": {},
   "outputs": [],
   "source": [
    "def fit_model(epochs=1, at=10, loss=\"warp\", no_components=30, learning_rate=0.01, max_sampled=10, user_alpha=0.0, item_alpha=0.0, threads=30, verbose=False):\n",
    "    model = lightfm.LightFM(\n",
    "        no_components=no_components,\n",
    "        loss=loss,\n",
    "        learning_rate=learning_rate,\n",
    "        max_sampled=max_sampled,\n",
    "        user_alpha=user_alpha,\n",
    "        item_alpha=user_alpha,\n",
    "    )\n",
    "\n",
    "    precisions_at = []\n",
    "    for epoch in range(epochs):\n",
    "        model = model.fit_partial(train_interactions, num_threads=threads)\n",
    "        precision_at = lv.precision_at_k(model, test_interactions, train_interactions=train_interactions, k=at, num_threads=threads)\n",
    "        if verbose:\n",
    "            print(f\"{epoch}:\\t{np.mean(precision_at)} +/- {ss.sem(precision_at) * 1.96}\")\n",
    "        precisions_at.append(np.mean(precision_at))\n",
    "            \n",
    "    return model, precisions_at\n",
    "\n",
    "\n",
    "def objective(trial):\n",
    "    loss = trial.suggest_categorical(\"loss\", [\"warp\", \"bpr\"])\n",
    "    no_components = trial.suggest_categorical(\"no_components\", [10, 30, 50])\n",
    "    learning_rate = trial.suggest_categorical(\"learning_rate\", [0.001, 0.01])\n",
    "    max_sampled = trial.suggest_categorical(\"max_sampled\", [10, 20, 50, 100])\n",
    "    user_alpha = trial.suggest_categorical(\"user_alpha\", [0.0, 0.001, 0.01])\n",
    "    item_alpha = trial.suggest_categorical(\"item_alpha\", [0.0, 0.001, 0.01])\n",
    "    \n",
    "    model, precisions_at = fit_model(\n",
    "        epochs=1, \n",
    "        at=10,\n",
    "        loss=loss,\n",
    "        no_components=no_components, \n",
    "        learning_rate=learning_rate, \n",
    "        max_sampled=max_sampled, \n",
    "        user_alpha=user_alpha, \n",
    "        item_alpha=item_alpha,\n",
    "    )\n",
    "    \n",
    "    return precisions_at[-1]"
   ]
  },
  {
   "cell_type": "code",
   "execution_count": 23,
   "metadata": {},
   "outputs": [
    {
     "name": "stderr",
     "output_type": "stream",
     "text": [
      "\u001b[32m[I 2022-03-06 18:59:31,027]\u001b[0m A new study created in memory with name: no-name-8e8c3d26-e7c5-4545-8309-26e98f7ab784\u001b[0m\n",
      "\u001b[32m[I 2022-03-06 18:59:31,135]\u001b[0m Trial 0 finished with value: 0.0 and parameters: {'loss': 'bpr', 'no_components': 30, 'learning_rate': 0.001, 'max_sampled': 20, 'user_alpha': 0.0, 'item_alpha': 0.01}. Best is trial 0 with value: 0.0.\u001b[0m\n",
      "\u001b[32m[I 2022-03-06 18:59:31,226]\u001b[0m Trial 1 finished with value: 0.0005649717641063035 and parameters: {'loss': 'warp', 'no_components': 30, 'learning_rate': 0.01, 'max_sampled': 50, 'user_alpha': 0.0, 'item_alpha': 0.001}. Best is trial 1 with value: 0.0005649717641063035.\u001b[0m\n",
      "\u001b[32m[I 2022-03-06 18:59:31,285]\u001b[0m Trial 2 finished with value: 0.0007532956660725176 and parameters: {'loss': 'bpr', 'no_components': 10, 'learning_rate': 0.001, 'max_sampled': 10, 'user_alpha': 0.001, 'item_alpha': 0.01}. Best is trial 2 with value: 0.0007532956660725176.\u001b[0m\n",
      "\u001b[32m[I 2022-03-06 18:59:31,374]\u001b[0m Trial 3 finished with value: 0.0001883239165181294 and parameters: {'loss': 'bpr', 'no_components': 50, 'learning_rate': 0.001, 'max_sampled': 100, 'user_alpha': 0.01, 'item_alpha': 0.001}. Best is trial 2 with value: 0.0007532956660725176.\u001b[0m\n",
      "\u001b[32m[I 2022-03-06 18:59:31,463]\u001b[0m Trial 4 finished with value: 0.0001883239165181294 and parameters: {'loss': 'warp', 'no_components': 50, 'learning_rate': 0.001, 'max_sampled': 50, 'user_alpha': 0.001, 'item_alpha': 0.0}. Best is trial 2 with value: 0.0007532956660725176.\u001b[0m\n",
      "\u001b[32m[I 2022-03-06 18:59:31,522]\u001b[0m Trial 5 finished with value: 0.0 and parameters: {'loss': 'warp', 'no_components': 10, 'learning_rate': 0.001, 'max_sampled': 20, 'user_alpha': 0.001, 'item_alpha': 0.0}. Best is trial 2 with value: 0.0007532956660725176.\u001b[0m\n",
      "\u001b[32m[I 2022-03-06 18:59:31,613]\u001b[0m Trial 6 finished with value: 0.0005649717641063035 and parameters: {'loss': 'bpr', 'no_components': 30, 'learning_rate': 0.001, 'max_sampled': 50, 'user_alpha': 0.01, 'item_alpha': 0.01}. Best is trial 2 with value: 0.0007532956660725176.\u001b[0m\n",
      "\u001b[32m[I 2022-03-06 18:59:31,705]\u001b[0m Trial 7 finished with value: 0.0001883239165181294 and parameters: {'loss': 'warp', 'no_components': 30, 'learning_rate': 0.001, 'max_sampled': 50, 'user_alpha': 0.001, 'item_alpha': 0.0}. Best is trial 2 with value: 0.0007532956660725176.\u001b[0m\n",
      "\u001b[32m[I 2022-03-06 18:59:31,794]\u001b[0m Trial 8 finished with value: 0.0001883239165181294 and parameters: {'loss': 'warp', 'no_components': 50, 'learning_rate': 0.001, 'max_sampled': 10, 'user_alpha': 0.0, 'item_alpha': 0.01}. Best is trial 2 with value: 0.0007532956660725176.\u001b[0m\n",
      "\u001b[32m[I 2022-03-06 18:59:31,895]\u001b[0m Trial 9 finished with value: 0.0003766478330362588 and parameters: {'loss': 'bpr', 'no_components': 30, 'learning_rate': 0.01, 'max_sampled': 20, 'user_alpha': 0.001, 'item_alpha': 0.0}. Best is trial 2 with value: 0.0007532956660725176.\u001b[0m\n",
      "\u001b[32m[I 2022-03-06 18:59:31,962]\u001b[0m Trial 10 finished with value: 0.0003766478330362588 and parameters: {'loss': 'bpr', 'no_components': 10, 'learning_rate': 0.01, 'max_sampled': 10, 'user_alpha': 0.001, 'item_alpha': 0.01}. Best is trial 2 with value: 0.0007532956660725176.\u001b[0m\n",
      "\u001b[32m[I 2022-03-06 18:59:32,021]\u001b[0m Trial 11 finished with value: 0.0 and parameters: {'loss': 'warp', 'no_components': 10, 'learning_rate': 0.01, 'max_sampled': 10, 'user_alpha': 0.0, 'item_alpha': 0.001}. Best is trial 2 with value: 0.0007532956660725176.\u001b[0m\n",
      "\u001b[32m[I 2022-03-06 18:59:32,082]\u001b[0m Trial 12 finished with value: 0.0 and parameters: {'loss': 'bpr', 'no_components': 10, 'learning_rate': 0.01, 'max_sampled': 100, 'user_alpha': 0.0, 'item_alpha': 0.001}. Best is trial 2 with value: 0.0007532956660725176.\u001b[0m\n",
      "\u001b[32m[I 2022-03-06 18:59:32,178]\u001b[0m Trial 13 finished with value: 0.0003766478330362588 and parameters: {'loss': 'warp', 'no_components': 30, 'learning_rate': 0.01, 'max_sampled': 50, 'user_alpha': 0.0, 'item_alpha': 0.001}. Best is trial 2 with value: 0.0007532956660725176.\u001b[0m\n",
      "\u001b[32m[I 2022-03-06 18:59:32,239]\u001b[0m Trial 14 finished with value: 0.0001883239165181294 and parameters: {'loss': 'bpr', 'no_components': 10, 'learning_rate': 0.01, 'max_sampled': 10, 'user_alpha': 0.01, 'item_alpha': 0.001}. Best is trial 2 with value: 0.0007532956660725176.\u001b[0m\n",
      "\u001b[32m[I 2022-03-06 18:59:32,298]\u001b[0m Trial 15 finished with value: 0.0005649717641063035 and parameters: {'loss': 'warp', 'no_components': 10, 'learning_rate': 0.01, 'max_sampled': 10, 'user_alpha': 0.001, 'item_alpha': 0.01}. Best is trial 2 with value: 0.0007532956660725176.\u001b[0m\n",
      "\u001b[32m[I 2022-03-06 18:59:32,391]\u001b[0m Trial 16 finished with value: 0.0003766478330362588 and parameters: {'loss': 'warp', 'no_components': 30, 'learning_rate': 0.001, 'max_sampled': 50, 'user_alpha': 0.0, 'item_alpha': 0.01}. Best is trial 2 with value: 0.0007532956660725176.\u001b[0m\n",
      "\u001b[32m[I 2022-03-06 18:59:32,490]\u001b[0m Trial 17 finished with value: 0.0007532956660725176 and parameters: {'loss': 'bpr', 'no_components': 30, 'learning_rate': 0.01, 'max_sampled': 100, 'user_alpha': 0.0, 'item_alpha': 0.001}. Best is trial 2 with value: 0.0007532956660725176.\u001b[0m\n",
      "\u001b[32m[I 2022-03-06 18:59:32,551]\u001b[0m Trial 18 finished with value: 0.0 and parameters: {'loss': 'bpr', 'no_components': 10, 'learning_rate': 0.01, 'max_sampled': 100, 'user_alpha': 0.001, 'item_alpha': 0.001}. Best is trial 2 with value: 0.0007532956660725176.\u001b[0m\n",
      "\u001b[32m[I 2022-03-06 18:59:32,645]\u001b[0m Trial 19 finished with value: 0.0 and parameters: {'loss': 'bpr', 'no_components': 50, 'learning_rate': 0.001, 'max_sampled': 100, 'user_alpha': 0.01, 'item_alpha': 0.01}. Best is trial 2 with value: 0.0007532956660725176.\u001b[0m\n",
      "\u001b[32m[I 2022-03-06 18:59:32,743]\u001b[0m Trial 20 finished with value: 0.0003766478330362588 and parameters: {'loss': 'bpr', 'no_components': 30, 'learning_rate': 0.01, 'max_sampled': 100, 'user_alpha': 0.0, 'item_alpha': 0.01}. Best is trial 2 with value: 0.0007532956660725176.\u001b[0m\n",
      "\u001b[32m[I 2022-03-06 18:59:32,842]\u001b[0m Trial 21 finished with value: 0.0 and parameters: {'loss': 'bpr', 'no_components': 30, 'learning_rate': 0.01, 'max_sampled': 50, 'user_alpha': 0.0, 'item_alpha': 0.001}. Best is trial 2 with value: 0.0007532956660725176.\u001b[0m\n",
      "\u001b[32m[I 2022-03-06 18:59:32,938]\u001b[0m Trial 22 finished with value: 0.0003766478330362588 and parameters: {'loss': 'bpr', 'no_components': 30, 'learning_rate': 0.01, 'max_sampled': 10, 'user_alpha': 0.0, 'item_alpha': 0.001}. Best is trial 2 with value: 0.0007532956660725176.\u001b[0m\n",
      "\u001b[32m[I 2022-03-06 18:59:33,031]\u001b[0m Trial 23 finished with value: 0.0003766478330362588 and parameters: {'loss': 'warp', 'no_components': 30, 'learning_rate': 0.01, 'max_sampled': 100, 'user_alpha': 0.0, 'item_alpha': 0.001}. Best is trial 2 with value: 0.0007532956660725176.\u001b[0m\n",
      "\u001b[32m[I 2022-03-06 18:59:33,129]\u001b[0m Trial 24 finished with value: 0.0001883239165181294 and parameters: {'loss': 'bpr', 'no_components': 30, 'learning_rate': 0.01, 'max_sampled': 100, 'user_alpha': 0.0, 'item_alpha': 0.001}. Best is trial 2 with value: 0.0007532956660725176.\u001b[0m\n",
      "\u001b[32m[I 2022-03-06 18:59:33,190]\u001b[0m Trial 25 finished with value: 0.0001883239165181294 and parameters: {'loss': 'bpr', 'no_components': 10, 'learning_rate': 0.01, 'max_sampled': 50, 'user_alpha': 0.001, 'item_alpha': 0.001}. Best is trial 2 with value: 0.0007532956660725176.\u001b[0m\n",
      "\u001b[32m[I 2022-03-06 18:59:33,284]\u001b[0m Trial 26 finished with value: 0.0001883239165181294 and parameters: {'loss': 'warp', 'no_components': 30, 'learning_rate': 0.001, 'max_sampled': 10, 'user_alpha': 0.0, 'item_alpha': 0.001}. Best is trial 2 with value: 0.0007532956660725176.\u001b[0m\n",
      "\u001b[32m[I 2022-03-06 18:59:33,346]\u001b[0m Trial 27 finished with value: 0.0 and parameters: {'loss': 'bpr', 'no_components': 10, 'learning_rate': 0.01, 'max_sampled': 20, 'user_alpha': 0.001, 'item_alpha': 0.01}. Best is trial 2 with value: 0.0007532956660725176.\u001b[0m\n",
      "\u001b[32m[I 2022-03-06 18:59:33,441]\u001b[0m Trial 28 finished with value: 0.0003766478330362588 and parameters: {'loss': 'warp', 'no_components': 30, 'learning_rate': 0.001, 'max_sampled': 10, 'user_alpha': 0.0, 'item_alpha': 0.0}. Best is trial 2 with value: 0.0007532956660725176.\u001b[0m\n",
      "\u001b[32m[I 2022-03-06 18:59:33,534]\u001b[0m Trial 29 finished with value: 0.0001883239165181294 and parameters: {'loss': 'bpr', 'no_components': 50, 'learning_rate': 0.001, 'max_sampled': 20, 'user_alpha': 0.01, 'item_alpha': 0.001}. Best is trial 2 with value: 0.0007532956660725176.\u001b[0m\n"
     ]
    }
   ],
   "source": [
    "study = optuna.create_study(direction=\"maximize\")\n",
    "study.optimize(objective, n_trials=30)\n",
    "best_params = study.best_params"
   ]
  },
  {
   "cell_type": "code",
   "execution_count": 24,
   "metadata": {},
   "outputs": [
    {
     "data": {
      "text/plain": [
       "{'loss': 'bpr',\n",
       " 'no_components': 10,\n",
       " 'learning_rate': 0.001,\n",
       " 'max_sampled': 10,\n",
       " 'user_alpha': 0.001,\n",
       " 'item_alpha': 0.01}"
      ]
     },
     "execution_count": 24,
     "metadata": {},
     "output_type": "execute_result"
    }
   ],
   "source": [
    "best_params"
   ]
  },
  {
   "cell_type": "code",
   "execution_count": 25,
   "metadata": {
    "tags": []
   },
   "outputs": [
    {
     "name": "stdout",
     "output_type": "stream",
     "text": [
      "0:\t0.0003766478330362588 +/- 0.0005215145631288094\n",
      "1:\t0.0003766478330362588 +/- 0.0005215145631288094\n",
      "2:\t0.0003766478330362588 +/- 0.0005215145631288094\n",
      "3:\t0.0003766478330362588 +/- 0.0005215145631288094\n",
      "4:\t0.0003766478330362588 +/- 0.0005215145631288094\n",
      "5:\t0.0003766478330362588 +/- 0.0005215145631288094\n",
      "6:\t0.0003766478330362588 +/- 0.0005215145631288094\n",
      "7:\t0.0001883239165181294 +/- 0.00036911486771098296\n",
      "8:\t0.0001883239165181294 +/- 0.00036911486771098296\n",
      "9:\t0.0001883239165181294 +/- 0.00036911486771098296\n",
      "10:\t0.0001883239165181294 +/- 0.00036911486771098296\n",
      "11:\t0.0 +/- 0.0\n",
      "12:\t0.0001883239165181294 +/- 0.00036911486771098296\n",
      "13:\t0.0001883239165181294 +/- 0.00036911486771098296\n",
      "14:\t0.0001883239165181294 +/- 0.00036911486771098296\n",
      "15:\t0.0001883239165181294 +/- 0.00036911486771098296\n",
      "16:\t0.0 +/- 0.0\n",
      "17:\t0.0 +/- 0.0\n",
      "18:\t0.0 +/- 0.0\n",
      "19:\t0.0 +/- 0.0\n",
      "20:\t0.0 +/- 0.0\n",
      "21:\t0.0 +/- 0.0\n",
      "22:\t0.0 +/- 0.0\n",
      "23:\t0.0 +/- 0.0\n",
      "24:\t0.0 +/- 0.0\n",
      "25:\t0.0 +/- 0.0\n",
      "26:\t0.0 +/- 0.0\n",
      "27:\t0.0 +/- 0.0\n",
      "28:\t0.0 +/- 0.0\n",
      "29:\t0.0 +/- 0.0\n"
     ]
    }
   ],
   "source": [
    "model, precisions_at = fit_model(\n",
    "    epochs=30,\n",
    "    at=10,\n",
    "    loss=best_params[\"loss\"],\n",
    "    no_components=best_params[\"no_components\"], \n",
    "    learning_rate=best_params[\"learning_rate\"], \n",
    "    max_sampled=best_params[\"max_sampled\"],\n",
    "    user_alpha=best_params[\"user_alpha\"],\n",
    "    item_alpha=best_params[\"item_alpha\"],\n",
    "    verbose=True,\n",
    ")"
   ]
  },
  {
   "cell_type": "code",
   "execution_count": 26,
   "metadata": {},
   "outputs": [
    {
     "data": {
      "image/png": "[encoded data removed]",
      "text/plain": [
       "<Figure size 432x288 with 1 Axes>"
      ]
     },
     "metadata": {
      "needs_background": "light"
     },
     "output_type": "display_data"
    }
   ],
   "source": [
    "figure, ax = pl.subplots()\n",
    "\n",
    "ax.plot(np.arange(len(precisions_at)), precisions_at)\n",
    "\n",
    "pass"
   ]
  },
  {
   "cell_type": "markdown",
   "metadata": {},
   "source": [
    "## Save track embeddings"
   ]
  },
  {
   "cell_type": "code",
   "execution_count": 27,
   "metadata": {},
   "outputs": [],
   "source": [
    "biases, embeddings = model.get_item_representations()"
   ]
  },
  {
   "cell_type": "code",
   "execution_count": 31,
   "metadata": {},
   "outputs": [],
   "source": [
    "track_meta = pd.read_json(DATA_DIR + \"tracks.json\", lines=True)\n",
    "track_meta[\"dataset_index\"] = track_meta[\"track\"].map(lambda t: dataset.mapping()[2].get(t))"
   ]
  },
  {
   "cell_type": "code",
   "execution_count": 32,
   "metadata": {},
   "outputs": [],
   "source": [
    "dataset_tracks = track_meta[pd.notnull(track_meta[\"dataset_index\"])].sort_values(\"dataset_index\")"
   ]
  },
  {
   "cell_type": "code",
   "execution_count": 33,
   "metadata": {},
   "outputs": [],
   "source": [
    "writer = tb.SummaryWriter(comment='msd_ligtfm_embeddings', log_dir=DATA_DIR + \"tb\")\n",
    "writer.add_embedding(embeddings, metadata=list(dataset_tracks[[\"artist\", \"title\"]].itertuples(index=False, name=None)), tag=\"lightfm\", metadata_header=[\"artist\", \"title\"])\n",
    "writer.close()"
   ]
  },
  {
   "cell_type": "markdown",
   "metadata": {},
   "source": [
    "## Compute top recommendations"
   ]
  },
  {
   "cell_type": "code",
   "execution_count": 34,
   "metadata": {},
   "outputs": [],
   "source": [
    "tracks = dataset_tracks[\"track\"].values\n",
    "users = [user for user, index in sorted(dataset.mapping()[0].items(), key=lambda kv: kv[1])]"
   ]
  },
  {
   "cell_type": "code",
   "execution_count": 35,
   "metadata": {},
   "outputs": [
    {
     "name": "stderr",
     "output_type": "stream",
     "text": [
      "100%|█████████████████████████████████████████████████████████████████████████████████████████████████████████████████████████████████████████████████████████████████| 1823/1823 [00:00<00:00, 2228.46it/s]\n"
     ]
    }
   ],
   "source": [
    "with open(DATA_DIR + \"recommendations.json\", \"w\") as rf:\n",
    "    for user_index in tqdm.tqdm(range(dataset.user_features_shape()[0])):\n",
    "        predictions = model.predict(user_index, np.arange(dataset.item_features_shape()[0]), num_threads=30)\n",
    "        top = tracks[np.argsort(predictions)[-100:]]\n",
    "        recommendation = {\n",
    "            \"user\": users[user_index],\n",
    "            \"tracks\": top.tolist()\n",
    "        }\n",
    "        rf.write(json.dumps(recommendation) + \"\\n\")"
   ]
  },
  {
   "cell_type": "code",
   "execution_count": null,
   "metadata": {},
   "outputs": [],
   "source": []
  }
 ],
 "metadata": {
  "kernelspec": {
   "display_name": "Python 3 (ipykernel)",
   "language": "python",
   "name": "python3"
  },
  "language_info": {
   "codemirror_mode": {
    "name": "ipython",
    "version": 3
   },
   "file_extension": ".py",
   "mimetype": "text/x-python",
   "name": "python",
   "nbconvert_exporter": "python",
   "pygments_lexer": "ipython3",
   "version": "3.7.5"
  }
 },
 "nbformat": 4,
 "nbformat_minor": 4
}
