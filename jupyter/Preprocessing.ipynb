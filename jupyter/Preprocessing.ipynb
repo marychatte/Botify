{
 "cells": [
  {
   "cell_type": "code",
   "execution_count": 83,
   "metadata": {
    "collapsed": true
   },
   "outputs": [],
   "source": [
    "import json\n",
    "\n",
    "import scipy.sparse as sps\n",
    "import lightfm\n",
    "import lightfm.data as ld\n",
    "import lightfm.evaluation as lv\n",
    "import numpy as np\n",
    "import pandas as pd\n",
    "\n",
    "import scipy.stats as ss\n",
    "\n",
    "from collections import namedtuple, defaultdict\n",
    "from jproperties import Properties\n",
    "from matplotlib import pyplot as plt\n",
    "\n",
    "import tqdm\n",
    "import json\n",
    "import optuna\n",
    "import tensorboardX as tb"
   ]
  },
  {
   "cell_type": "code",
   "execution_count": 122,
   "outputs": [],
   "source": [
    "configs = Properties()\n",
    "with open('DIRECTORIES.properties', 'rb') as config_file:\n",
    "    configs.load(config_file)\n",
    "\n",
    "DATA_DIR = configs.get(\"DATA_DIR\").data\n",
    "LOG_DIR = configs.get(\"LOG_DIR\").data\n",
    "TENSORBOARD_DIR = configs.get(\"TENSORBOARD_DIR\").data"
   ],
   "metadata": {
    "collapsed": false,
    "pycharm": {
     "name": "#%%\n"
    }
   }
  },
  {
   "cell_type": "code",
   "execution_count": 123,
   "outputs": [
    {
     "data": {
      "text/plain": "                  artist                            title  track\n0           Jack Johnson                         The Cove      0\n1          Billy Preston             Nothing from Nothing      1\n2          Paco De Lucia                  Entre Dos Aguas      2\n3             Josh Rouse            Under Cold Blue Stars      3\n4           The Dead 60s  Riot Radio (Soundtrack Version)      4\n...                  ...                              ...    ...\n49995      Alain Bashung                   Osez Joséphine  49995\n49996        Habib Koité                           Kanawa  49996\n49997          De Saloon                           Morder  49997\n49998  She Wants Revenge        Red Flags And Long Nights  49998\n49999     Reckless Kelly                     Stick Around  49999\n\n[50000 rows x 3 columns]",
      "text/html": "<div>\n<style scoped>\n    .dataframe tbody tr th:only-of-type {\n        vertical-align: middle;\n    }\n\n    .dataframe tbody tr th {\n        vertical-align: top;\n    }\n\n    .dataframe thead th {\n        text-align: right;\n    }\n</style>\n<table border=\"1\" class=\"dataframe\">\n  <thead>\n    <tr style=\"text-align: right;\">\n      <th></th>\n      <th>artist</th>\n      <th>title</th>\n      <th>track</th>\n    </tr>\n  </thead>\n  <tbody>\n    <tr>\n      <th>0</th>\n      <td>Jack Johnson</td>\n      <td>The Cove</td>\n      <td>0</td>\n    </tr>\n    <tr>\n      <th>1</th>\n      <td>Billy Preston</td>\n      <td>Nothing from Nothing</td>\n      <td>1</td>\n    </tr>\n    <tr>\n      <th>2</th>\n      <td>Paco De Lucia</td>\n      <td>Entre Dos Aguas</td>\n      <td>2</td>\n    </tr>\n    <tr>\n      <th>3</th>\n      <td>Josh Rouse</td>\n      <td>Under Cold Blue Stars</td>\n      <td>3</td>\n    </tr>\n    <tr>\n      <th>4</th>\n      <td>The Dead 60s</td>\n      <td>Riot Radio (Soundtrack Version)</td>\n      <td>4</td>\n    </tr>\n    <tr>\n      <th>...</th>\n      <td>...</td>\n      <td>...</td>\n      <td>...</td>\n    </tr>\n    <tr>\n      <th>49995</th>\n      <td>Alain Bashung</td>\n      <td>Osez Joséphine</td>\n      <td>49995</td>\n    </tr>\n    <tr>\n      <th>49996</th>\n      <td>Habib Koité</td>\n      <td>Kanawa</td>\n      <td>49996</td>\n    </tr>\n    <tr>\n      <th>49997</th>\n      <td>De Saloon</td>\n      <td>Morder</td>\n      <td>49997</td>\n    </tr>\n    <tr>\n      <th>49998</th>\n      <td>She Wants Revenge</td>\n      <td>Red Flags And Long Nights</td>\n      <td>49998</td>\n    </tr>\n    <tr>\n      <th>49999</th>\n      <td>Reckless Kelly</td>\n      <td>Stick Around</td>\n      <td>49999</td>\n    </tr>\n  </tbody>\n</table>\n<p>50000 rows × 3 columns</p>\n</div>"
     },
     "execution_count": 123,
     "metadata": {},
     "output_type": "execute_result"
    }
   ],
   "source": [
    "all_tracks = pd.read_json(DATA_DIR + \"tracks.json\", lines=True)\n",
    "all_tracks"
   ],
   "metadata": {
    "collapsed": false,
    "pycharm": {
     "name": "#%%\n"
    }
   }
  },
  {
   "cell_type": "code",
   "execution_count": 124,
   "outputs": [
    {
     "data": {
      "text/plain": "  message               timestamp  user  track  time   latency  \\\n0    next 2022-03-20 19:29:36.765  3255   2659   1.0  0.001031   \n1    next 2022-03-20 19:29:36.780  3255    177   1.0  0.000906   \n2    next 2022-03-20 19:29:36.795  3255   1498   1.0  0.000867   \n3    next 2022-03-20 19:29:36.808  3255   1083   1.0  0.000939   \n4    next 2022-03-20 19:29:36.818  3255    188   1.0  0.000883   \n\n   recommendation                  experiments  \n0           177.0  {'AA': 'C', 'INDEXED': 'C'}  \n1          1498.0  {'AA': 'C', 'INDEXED': 'C'}  \n2          1083.0  {'AA': 'C', 'INDEXED': 'C'}  \n3           188.0  {'AA': 'C', 'INDEXED': 'C'}  \n4           188.0  {'AA': 'C', 'INDEXED': 'C'}  ",
      "text/html": "<div>\n<style scoped>\n    .dataframe tbody tr th:only-of-type {\n        vertical-align: middle;\n    }\n\n    .dataframe tbody tr th {\n        vertical-align: top;\n    }\n\n    .dataframe thead th {\n        text-align: right;\n    }\n</style>\n<table border=\"1\" class=\"dataframe\">\n  <thead>\n    <tr style=\"text-align: right;\">\n      <th></th>\n      <th>message</th>\n      <th>timestamp</th>\n      <th>user</th>\n      <th>track</th>\n      <th>time</th>\n      <th>latency</th>\n      <th>recommendation</th>\n      <th>experiments</th>\n    </tr>\n  </thead>\n  <tbody>\n    <tr>\n      <th>0</th>\n      <td>next</td>\n      <td>2022-03-20 19:29:36.765</td>\n      <td>3255</td>\n      <td>2659</td>\n      <td>1.0</td>\n      <td>0.001031</td>\n      <td>177.0</td>\n      <td>{'AA': 'C', 'INDEXED': 'C'}</td>\n    </tr>\n    <tr>\n      <th>1</th>\n      <td>next</td>\n      <td>2022-03-20 19:29:36.780</td>\n      <td>3255</td>\n      <td>177</td>\n      <td>1.0</td>\n      <td>0.000906</td>\n      <td>1498.0</td>\n      <td>{'AA': 'C', 'INDEXED': 'C'}</td>\n    </tr>\n    <tr>\n      <th>2</th>\n      <td>next</td>\n      <td>2022-03-20 19:29:36.795</td>\n      <td>3255</td>\n      <td>1498</td>\n      <td>1.0</td>\n      <td>0.000867</td>\n      <td>1083.0</td>\n      <td>{'AA': 'C', 'INDEXED': 'C'}</td>\n    </tr>\n    <tr>\n      <th>3</th>\n      <td>next</td>\n      <td>2022-03-20 19:29:36.808</td>\n      <td>3255</td>\n      <td>1083</td>\n      <td>1.0</td>\n      <td>0.000939</td>\n      <td>188.0</td>\n      <td>{'AA': 'C', 'INDEXED': 'C'}</td>\n    </tr>\n    <tr>\n      <th>4</th>\n      <td>next</td>\n      <td>2022-03-20 19:29:36.818</td>\n      <td>3255</td>\n      <td>188</td>\n      <td>1.0</td>\n      <td>0.000883</td>\n      <td>188.0</td>\n      <td>{'AA': 'C', 'INDEXED': 'C'}</td>\n    </tr>\n  </tbody>\n</table>\n</div>"
     },
     "execution_count": 124,
     "metadata": {},
     "output_type": "execute_result"
    }
   ],
   "source": [
    "user_items_interaction = pd.concat([\n",
    "    pd.read_json(LOG_DIR + \"data.json\", lines=True)\n",
    "]).drop_duplicates(subset=[\"user\", \"track\"])\n",
    "\n",
    "user_items_interaction.head()"
   ],
   "metadata": {
    "collapsed": false,
    "pycharm": {
     "name": "#%%\n"
    }
   }
  },
  {
   "cell_type": "code",
   "execution_count": 125,
   "outputs": [
    {
     "data": {
      "text/plain": "                user          track           time        latency  \\\ncount  350558.000000  350558.000000  350558.000000  350558.000000   \nmean     4980.452188    8084.212376       0.404384       0.006294   \nstd      2882.918341    9994.227009       0.439652       3.038789   \nmin         0.000000       6.000000       0.000000      -0.033951   \n25%      2492.000000    1259.000000       0.000000       0.000862   \n50%      4968.000000    3819.000000       0.130000       0.000960   \n75%      7469.000000   11468.000000       0.980000       0.001107   \nmax      9999.000000   49999.000000       1.000000    1799.203959   \n\n       recommendation  \ncount   310397.000000  \nmean      7356.094202  \nstd       9398.987609  \nmin          7.000000  \n25%       1123.000000  \n50%       3300.000000  \n75%      10328.000000  \nmax      49959.000000  ",
      "text/html": "<div>\n<style scoped>\n    .dataframe tbody tr th:only-of-type {\n        vertical-align: middle;\n    }\n\n    .dataframe tbody tr th {\n        vertical-align: top;\n    }\n\n    .dataframe thead th {\n        text-align: right;\n    }\n</style>\n<table border=\"1\" class=\"dataframe\">\n  <thead>\n    <tr style=\"text-align: right;\">\n      <th></th>\n      <th>user</th>\n      <th>track</th>\n      <th>time</th>\n      <th>latency</th>\n      <th>recommendation</th>\n    </tr>\n  </thead>\n  <tbody>\n    <tr>\n      <th>count</th>\n      <td>350558.000000</td>\n      <td>350558.000000</td>\n      <td>350558.000000</td>\n      <td>350558.000000</td>\n      <td>310397.000000</td>\n    </tr>\n    <tr>\n      <th>mean</th>\n      <td>4980.452188</td>\n      <td>8084.212376</td>\n      <td>0.404384</td>\n      <td>0.006294</td>\n      <td>7356.094202</td>\n    </tr>\n    <tr>\n      <th>std</th>\n      <td>2882.918341</td>\n      <td>9994.227009</td>\n      <td>0.439652</td>\n      <td>3.038789</td>\n      <td>9398.987609</td>\n    </tr>\n    <tr>\n      <th>min</th>\n      <td>0.000000</td>\n      <td>6.000000</td>\n      <td>0.000000</td>\n      <td>-0.033951</td>\n      <td>7.000000</td>\n    </tr>\n    <tr>\n      <th>25%</th>\n      <td>2492.000000</td>\n      <td>1259.000000</td>\n      <td>0.000000</td>\n      <td>0.000862</td>\n      <td>1123.000000</td>\n    </tr>\n    <tr>\n      <th>50%</th>\n      <td>4968.000000</td>\n      <td>3819.000000</td>\n      <td>0.130000</td>\n      <td>0.000960</td>\n      <td>3300.000000</td>\n    </tr>\n    <tr>\n      <th>75%</th>\n      <td>7469.000000</td>\n      <td>11468.000000</td>\n      <td>0.980000</td>\n      <td>0.001107</td>\n      <td>10328.000000</td>\n    </tr>\n    <tr>\n      <th>max</th>\n      <td>9999.000000</td>\n      <td>49999.000000</td>\n      <td>1.000000</td>\n      <td>1799.203959</td>\n      <td>49959.000000</td>\n    </tr>\n  </tbody>\n</table>\n</div>"
     },
     "execution_count": 125,
     "metadata": {},
     "output_type": "execute_result"
    }
   ],
   "source": [
    "user_items_interaction.describe()"
   ],
   "metadata": {
    "collapsed": false,
    "pycharm": {
     "name": "#%%\n"
    }
   }
  },
  {
   "cell_type": "markdown",
   "source": [
    "# Compute the most popular tracks\n",
    "### popular = max(all_time)\n",
    "##### Will use in TopPop recommender\n",
    "###### Based on seminar 3"
   ],
   "metadata": {
    "collapsed": false,
    "pycharm": {
     "name": "#%% md\n"
    }
   }
  },
  {
   "cell_type": "code",
   "execution_count": 126,
   "outputs": [
    {
     "data": {
      "text/plain": "       track     user    time   latency  recommendation\n0        177  6247302  602.47  1.416142       4225149.0\n1        176  6028599  586.84  1.235918       4078968.0\n2        424  5849515  580.60  1.318121       3863574.0\n3        171  5913588  580.45  1.400788       3882243.0\n4        170  6044179  563.47  1.354466       3716617.0\n...      ...      ...     ...       ...             ...\n15842   1378     3825    0.00  0.001156         10814.0\n15843  23887     7669    0.00  0.001785           782.0\n15844  48503     1498    0.00  0.001238         18347.0\n15845  29683     5716    0.00  0.000202             0.0\n15846  27581     5415    0.00  0.000372             0.0\n\n[15847 rows x 5 columns]",
      "text/html": "<div>\n<style scoped>\n    .dataframe tbody tr th:only-of-type {\n        vertical-align: middle;\n    }\n\n    .dataframe tbody tr th {\n        vertical-align: top;\n    }\n\n    .dataframe thead th {\n        text-align: right;\n    }\n</style>\n<table border=\"1\" class=\"dataframe\">\n  <thead>\n    <tr style=\"text-align: right;\">\n      <th></th>\n      <th>track</th>\n      <th>user</th>\n      <th>time</th>\n      <th>latency</th>\n      <th>recommendation</th>\n    </tr>\n  </thead>\n  <tbody>\n    <tr>\n      <th>0</th>\n      <td>177</td>\n      <td>6247302</td>\n      <td>602.47</td>\n      <td>1.416142</td>\n      <td>4225149.0</td>\n    </tr>\n    <tr>\n      <th>1</th>\n      <td>176</td>\n      <td>6028599</td>\n      <td>586.84</td>\n      <td>1.235918</td>\n      <td>4078968.0</td>\n    </tr>\n    <tr>\n      <th>2</th>\n      <td>424</td>\n      <td>5849515</td>\n      <td>580.60</td>\n      <td>1.318121</td>\n      <td>3863574.0</td>\n    </tr>\n    <tr>\n      <th>3</th>\n      <td>171</td>\n      <td>5913588</td>\n      <td>580.45</td>\n      <td>1.400788</td>\n      <td>3882243.0</td>\n    </tr>\n    <tr>\n      <th>4</th>\n      <td>170</td>\n      <td>6044179</td>\n      <td>563.47</td>\n      <td>1.354466</td>\n      <td>3716617.0</td>\n    </tr>\n    <tr>\n      <th>...</th>\n      <td>...</td>\n      <td>...</td>\n      <td>...</td>\n      <td>...</td>\n      <td>...</td>\n    </tr>\n    <tr>\n      <th>15842</th>\n      <td>1378</td>\n      <td>3825</td>\n      <td>0.00</td>\n      <td>0.001156</td>\n      <td>10814.0</td>\n    </tr>\n    <tr>\n      <th>15843</th>\n      <td>23887</td>\n      <td>7669</td>\n      <td>0.00</td>\n      <td>0.001785</td>\n      <td>782.0</td>\n    </tr>\n    <tr>\n      <th>15844</th>\n      <td>48503</td>\n      <td>1498</td>\n      <td>0.00</td>\n      <td>0.001238</td>\n      <td>18347.0</td>\n    </tr>\n    <tr>\n      <th>15845</th>\n      <td>29683</td>\n      <td>5716</td>\n      <td>0.00</td>\n      <td>0.000202</td>\n      <td>0.0</td>\n    </tr>\n    <tr>\n      <th>15846</th>\n      <td>27581</td>\n      <td>5415</td>\n      <td>0.00</td>\n      <td>0.000372</td>\n      <td>0.0</td>\n    </tr>\n  </tbody>\n</table>\n<p>15847 rows × 5 columns</p>\n</div>"
     },
     "execution_count": 126,
     "metadata": {},
     "output_type": "execute_result"
    }
   ],
   "source": [
    "popular_tracks = (\n",
    "    user_items_interaction\n",
    "        .groupby(\"track\")\n",
    "        .sum()\n",
    "        .sort_values(\"time\", ascending=False)\n",
    "        .reset_index()\n",
    ")\n",
    "\n",
    "popular_tracks"
   ],
   "metadata": {
    "collapsed": false,
    "pycharm": {
     "name": "#%%\n"
    }
   }
  },
  {
   "cell_type": "code",
   "execution_count": 127,
   "outputs": [
    {
     "data": {
      "text/plain": "<Figure size 432x288 with 1 Axes>",
      "image/png": "[encoded data removed]"
     },
     "metadata": {
      "needs_background": "light"
     },
     "output_type": "display_data"
    }
   ],
   "source": [
    "plt.plot(popular_tracks.index.values, popular_tracks[\"time\"].values)\n",
    "plt.xlabel(\"tracks\")\n",
    "plt.ylabel(\"all time\")\n",
    "plt.title(\"Distribution of tracks by popularity\")\n",
    "plt.show()"
   ],
   "metadata": {
    "collapsed": false,
    "pycharm": {
     "name": "#%%\n"
    }
   }
  },
  {
   "cell_type": "code",
   "execution_count": 128,
   "outputs": [
    {
     "name": "stdout",
     "output_type": "stream",
     "text": [
      "Count of popular tracks: 20\n"
     ]
    }
   ],
   "source": [
    "popular_tracks = popular_tracks[:20]\n",
    "print(f'Count of popular tracks: {len(popular_tracks)}')\n",
    "\n",
    "with open(DATA_DIR + \"top_tracks.json\", \"w\") as top_tracks_file:\n",
    "    json.dump(popular_tracks[\"track\"].tolist(), top_tracks_file)"
   ],
   "metadata": {
    "collapsed": false,
    "pycharm": {
     "name": "#%%\n"
    }
   }
  },
  {
   "cell_type": "markdown",
   "source": [
    "# Compute user -> [firsts tracks], [favorites_tracks], [unfavorites_tracks],\n",
    "# [favorites_artists], [unfavorites_artists]\n",
    "##### Will use in SimilarUsers recommender"
   ],
   "metadata": {
    "collapsed": false,
    "pycharm": {
     "name": "#%% md\n"
    }
   }
  },
  {
   "cell_type": "code",
   "execution_count": 129,
   "outputs": [],
   "source": [
    "count_of_favorites = 3\n",
    "liked = 0.8\n",
    "unliked = 0.3\n",
    "\n",
    "Pair = namedtuple(\"session\",\n",
    "                  [\"user\", \"firsts\", \"favorites_tracks\", \"unfavorites_tracks\",\n",
    "                   \"favorites_artists\", \"unfavorites_artists\"])\n",
    "\n",
    "\n",
    "def get_pairs(user_data):\n",
    "    cur_user = None\n",
    "    cur_first = None\n",
    "    firsts = []\n",
    "    favorites_tracks = []\n",
    "    unfavorites_tracks = []\n",
    "    favorites_artists = dict()\n",
    "    unfavorites_artists = dict()\n",
    "\n",
    "    for _, cur_row in user_data.sort_values(\"timestamp\").iterrows():\n",
    "        cur_track = cur_row[\"track\"]\n",
    "        cur_artist = all_tracks.loc[all_tracks.track == cur_track][\"artist\"].to_string(index=False)\n",
    "        cur_user = cur_row[\"user\"]\n",
    "        if cur_first is None:\n",
    "            cur_first = cur_track\n",
    "            firsts.append(cur_first)\n",
    "        if cur_row[\"message\"] == \"last\":\n",
    "            cur_first = None\n",
    "\n",
    "        if cur_row[\"time\"] >= liked:\n",
    "            favorites_tracks.append((cur_track, cur_row[\"time\"]))\n",
    "            favorites_artists[cur_artist] = favorites_artists.get(cur_artist, 0) + 1\n",
    "        elif cur_row[\"time\"] <= unliked:\n",
    "            unfavorites_tracks.append((cur_row[\"track\"], cur_row[\"time\"]))\n",
    "            unfavorites_artists[cur_artist] = unfavorites_artists.get(cur_artist, 0) + 1\n",
    "\n",
    "    favorites_tracks = set([i[0] for i in favorites_tracks])\n",
    "    favorites_tracks = sorted(favorites_tracks, reverse=True)[:count_of_favorites]\n",
    "    favorites_artists = list(dict(sorted(favorites_artists.items(), key=lambda item: item[1], reverse=True)).keys())[\n",
    "                        :count_of_favorites]\n",
    "\n",
    "    unfavorites_tracks = set([i[0] for i in unfavorites_tracks])\n",
    "    unfavorites_artists = list(dict(sorted(unfavorites_artists.items(), key=lambda item: item[1])).keys())[\n",
    "                          :count_of_favorites]\n",
    "    return Pair(cur_user, set(firsts),\n",
    "                set(favorites_tracks), set(unfavorites_tracks),\n",
    "                set(favorites_artists), set(unfavorites_artists))\n"
   ],
   "metadata": {
    "collapsed": false,
    "pycharm": {
     "name": "#%%\n"
    }
   }
  },
  {
   "cell_type": "code",
   "execution_count": 130,
   "outputs": [
    {
     "data": {
      "text/plain": "   user                                   firsts       favorites_tracks  \\\n0     0                            {19498, 6022}          {19498, 6022}   \n1     1         {13026, 20938, 1262, 5308, 2175}  {20938, 14970, 13026}   \n2     2                    {6216, 744, 470, 758}     {6216, 3755, 4205}   \n3     3     {8320, 22369, 2984, 2996, 1493, 155}   {22369, 15990, 8855}   \n4     4  {769, 42115, 15081, 16333, 13501, 2559}  {42115, 15084, 16333}   \n\n                                  unfavorites_tracks  \\\n0  {9701, 9125, 40936, 27850, 16686, 814, 49750, ...   \n1  {5890, 11461, 5382, 25545, 26636, 5198, 2257, ...   \n2  {13152, 2795, 171, 2000, 176, 1490, 1499, 409,...   \n3  {12289, 770, 2497, 21253, 12423, 2761, 12874, ...   \n4  {769, 2939, 1541, 1544, 2251, 2254, 2000, 1490...   \n\n                                   favorites_artists  \\\n0  {Lil Wayne / Bobby Valentino / Kidd Kidd, Slayer}   \n1                {Sheena Easton, Future Rock, Musiq}   \n2           {Kanye West / Jay-Z, Coldplay, Four Tet}   \n3             {Nickelback, Portishead, 3 Doors Down}   \n4  {Fun Lovin' Criminals, Two Door Cinema Club, G...   \n\n                                 unfavorites_artists  \n0        {Pavement, Killswitch Engage, Keyshia Cole}  \n1                        {Cake, Maria Gadú, Skillet}  \n2  {Muse, Emmy The Great, Justin Bieber / Jessica...  \n3                     {Enya, LL Cool J, Ace of Base}  \n4  {Lady GaGa / Colby O'Donis, Masta Killa, Starf...  ",
      "text/html": "<div>\n<style scoped>\n    .dataframe tbody tr th:only-of-type {\n        vertical-align: middle;\n    }\n\n    .dataframe tbody tr th {\n        vertical-align: top;\n    }\n\n    .dataframe thead th {\n        text-align: right;\n    }\n</style>\n<table border=\"1\" class=\"dataframe\">\n  <thead>\n    <tr style=\"text-align: right;\">\n      <th></th>\n      <th>user</th>\n      <th>firsts</th>\n      <th>favorites_tracks</th>\n      <th>unfavorites_tracks</th>\n      <th>favorites_artists</th>\n      <th>unfavorites_artists</th>\n    </tr>\n  </thead>\n  <tbody>\n    <tr>\n      <th>0</th>\n      <td>0</td>\n      <td>{19498, 6022}</td>\n      <td>{19498, 6022}</td>\n      <td>{9701, 9125, 40936, 27850, 16686, 814, 49750, ...</td>\n      <td>{Lil Wayne / Bobby Valentino / Kidd Kidd, Slayer}</td>\n      <td>{Pavement, Killswitch Engage, Keyshia Cole}</td>\n    </tr>\n    <tr>\n      <th>1</th>\n      <td>1</td>\n      <td>{13026, 20938, 1262, 5308, 2175}</td>\n      <td>{20938, 14970, 13026}</td>\n      <td>{5890, 11461, 5382, 25545, 26636, 5198, 2257, ...</td>\n      <td>{Sheena Easton, Future Rock, Musiq}</td>\n      <td>{Cake, Maria Gadú, Skillet}</td>\n    </tr>\n    <tr>\n      <th>2</th>\n      <td>2</td>\n      <td>{6216, 744, 470, 758}</td>\n      <td>{6216, 3755, 4205}</td>\n      <td>{13152, 2795, 171, 2000, 176, 1490, 1499, 409,...</td>\n      <td>{Kanye West / Jay-Z, Coldplay, Four Tet}</td>\n      <td>{Muse, Emmy The Great, Justin Bieber / Jessica...</td>\n    </tr>\n    <tr>\n      <th>3</th>\n      <td>3</td>\n      <td>{8320, 22369, 2984, 2996, 1493, 155}</td>\n      <td>{22369, 15990, 8855}</td>\n      <td>{12289, 770, 2497, 21253, 12423, 2761, 12874, ...</td>\n      <td>{Nickelback, Portishead, 3 Doors Down}</td>\n      <td>{Enya, LL Cool J, Ace of Base}</td>\n    </tr>\n    <tr>\n      <th>4</th>\n      <td>4</td>\n      <td>{769, 42115, 15081, 16333, 13501, 2559}</td>\n      <td>{42115, 15084, 16333}</td>\n      <td>{769, 2939, 1541, 1544, 2251, 2254, 2000, 1490...</td>\n      <td>{Fun Lovin' Criminals, Two Door Cinema Club, G...</td>\n      <td>{Lady GaGa / Colby O'Donis, Masta Killa, Starf...</td>\n    </tr>\n  </tbody>\n</table>\n</div>"
     },
     "execution_count": 130,
     "metadata": {},
     "output_type": "execute_result"
    }
   ],
   "source": [
    "users_descriptions = pd.DataFrame(\n",
    "    user_items_interaction\n",
    "        .groupby(\"user\")\n",
    "        .apply(get_pairs)\n",
    "        .values\n",
    "        .tolist(),\n",
    "    columns=[\"user\", \"firsts\",\n",
    "             \"favorites_tracks\", \"unfavorites_tracks\",\n",
    "             \"favorites_artists\", \"unfavorites_artists\"]\n",
    ")\n",
    "users_descriptions.head()"
   ],
   "metadata": {
    "collapsed": false,
    "pycharm": {
     "name": "#%%\n"
    }
   }
  },
  {
   "cell_type": "code",
   "execution_count": 131,
   "outputs": [
    {
     "name": "stderr",
     "output_type": "stream",
     "text": [
      "9953it [00:01, 5019.57it/s]\n"
     ]
    }
   ],
   "source": [
    "with open(DATA_DIR + \"users_firsts_favorites_unfavorites.json\", \"w\") as rf:\n",
    "    for _, user in tqdm.tqdm(users_descriptions.iterrows()):\n",
    "        info = {\n",
    "            \"user\": int(user[\"user\"]),\n",
    "            \"firsts_tracks\": [int(x) for x in user[\"firsts\"]],\n",
    "            \"favorites_tracks\": [int(x) for x in user[\"favorites_tracks\"]],\n",
    "            \"unfavorites_tracks\": [int(x) for x in user[\"unfavorites_tracks\"]],\n",
    "            \"favorites_artists\": [str(x) for x in user[\"favorites_artists\"]],\n",
    "            \"unfavorites_artists\": [str(x) for x in user[\"unfavorites_artists\"]],\n",
    "        }\n",
    "        rf.write(json.dumps(info) + \"\\n\")"
   ],
   "metadata": {
    "collapsed": false,
    "pycharm": {
     "name": "#%%\n"
    }
   }
  },
  {
   "cell_type": "code",
   "execution_count": 13,
   "outputs": [],
   "source": [
    "# for idea with users embeddings\n",
    "\n",
    "# users_descriptions_columns = pd.concat([\n",
    "#     users_descriptions.user,\n",
    "#     pd.DataFrame(users_descriptions.favorites_tracks.tolist(), columns=['ft_1', 'ft_2', 'ft_3']),\n",
    "#     pd.DataFrame(users_descriptions.unfavorites_tracks.tolist(), columns=['uft_1', 'uft_2', 'uft_3']),\n",
    "#     users_descriptions.favorites_artists,\n",
    "#     users_descriptions.unfavorites_artists\n",
    "# ], axis=1)\n",
    "# users_descriptions_columns"
   ],
   "metadata": {
    "collapsed": false,
    "pycharm": {
     "name": "#%%\n"
    }
   }
  },
  {
   "cell_type": "code",
   "execution_count": 23,
   "outputs": [],
   "source": [
    "# for idea with users embeddings\n",
    "\n",
    "# users_descriptions_detailed = pd.get_dummies(users_descriptions_columns, columns=[\n",
    "#     'ft_1', 'ft_2', 'ft_3',\n",
    "#     'uft_1', 'uft_2', 'uft_3'\n",
    "# ])\n",
    "# users_descriptions_detailed.head(1)"
   ],
   "metadata": {
    "collapsed": false,
    "pycharm": {
     "name": "#%%\n"
    }
   }
  },
  {
   "cell_type": "markdown",
   "source": [
    "# Compute similar tracks to create recommendations for each track\n",
    "##### Will use in ContextualByFirst recommender\n",
    "# Compute similar users\n",
    "##### Will use in SimilarUsers recommender\n",
    "###### Based on seminar 5"
   ],
   "metadata": {
    "collapsed": false,
    "pycharm": {
     "name": "#%% md\n"
    }
   }
  },
  {
   "cell_type": "code",
   "execution_count": 14,
   "outputs": [
    {
     "data": {
      "text/plain": "        user  track  time   test\n0       3392   2142  1.00  False\n4       3392  20975  0.94  False\n7        379   9551  1.00  False\n14      5884  48370  1.00   True\n21       181  24587  1.00  False\n...      ...    ...   ...    ...\n355200  8221  21258  0.92  False\n355203  9604   6903  1.00   True\n355209  7235   5456  1.00  False\n355211  7235  31231  0.98  False\n355216  3463  20853  1.00  False\n\n[75823 rows x 4 columns]",
      "text/html": "<div>\n<style scoped>\n    .dataframe tbody tr th:only-of-type {\n        vertical-align: middle;\n    }\n\n    .dataframe tbody tr th {\n        vertical-align: top;\n    }\n\n    .dataframe thead th {\n        text-align: right;\n    }\n</style>\n<table border=\"1\" class=\"dataframe\">\n  <thead>\n    <tr style=\"text-align: right;\">\n      <th></th>\n      <th>user</th>\n      <th>track</th>\n      <th>time</th>\n      <th>test</th>\n    </tr>\n  </thead>\n  <tbody>\n    <tr>\n      <th>0</th>\n      <td>3392</td>\n      <td>2142</td>\n      <td>1.00</td>\n      <td>False</td>\n    </tr>\n    <tr>\n      <th>4</th>\n      <td>3392</td>\n      <td>20975</td>\n      <td>0.94</td>\n      <td>False</td>\n    </tr>\n    <tr>\n      <th>7</th>\n      <td>379</td>\n      <td>9551</td>\n      <td>1.00</td>\n      <td>False</td>\n    </tr>\n    <tr>\n      <th>14</th>\n      <td>5884</td>\n      <td>48370</td>\n      <td>1.00</td>\n      <td>True</td>\n    </tr>\n    <tr>\n      <th>21</th>\n      <td>181</td>\n      <td>24587</td>\n      <td>1.00</td>\n      <td>False</td>\n    </tr>\n    <tr>\n      <th>...</th>\n      <td>...</td>\n      <td>...</td>\n      <td>...</td>\n      <td>...</td>\n    </tr>\n    <tr>\n      <th>355200</th>\n      <td>8221</td>\n      <td>21258</td>\n      <td>0.92</td>\n      <td>False</td>\n    </tr>\n    <tr>\n      <th>355203</th>\n      <td>9604</td>\n      <td>6903</td>\n      <td>1.00</td>\n      <td>True</td>\n    </tr>\n    <tr>\n      <th>355209</th>\n      <td>7235</td>\n      <td>5456</td>\n      <td>1.00</td>\n      <td>False</td>\n    </tr>\n    <tr>\n      <th>355211</th>\n      <td>7235</td>\n      <td>31231</td>\n      <td>0.98</td>\n      <td>False</td>\n    </tr>\n    <tr>\n      <th>355216</th>\n      <td>3463</td>\n      <td>20853</td>\n      <td>1.00</td>\n      <td>False</td>\n    </tr>\n  </tbody>\n</table>\n<p>75823 rows × 4 columns</p>\n</div>"
     },
     "execution_count": 14,
     "metadata": {},
     "output_type": "execute_result"
    }
   ],
   "source": [
    "positives = user_items_interaction[user_items_interaction[\"time\"] > liked].copy()\n",
    "positives.drop(columns=[\"message\", \"timestamp\", \"latency\", \"recommendation\", \"experiments\"], inplace=True)\n",
    "positives[\"test\"] = np.random.random(len(positives)) >= 0.7\n",
    "positives"
   ],
   "metadata": {
    "collapsed": false,
    "pycharm": {
     "name": "#%%\n"
    }
   }
  },
  {
   "cell_type": "code",
   "execution_count": 15,
   "outputs": [],
   "source": [
    "count_const = 5\n",
    "user_counts = positives.groupby(\"user\").size()\n",
    "users = set(user_counts[user_counts >= count_const].index.values)"
   ],
   "metadata": {
    "collapsed": false,
    "pycharm": {
     "name": "#%%\n"
    }
   }
  },
  {
   "cell_type": "code",
   "execution_count": 16,
   "outputs": [],
   "source": [
    "track_counts = positives.groupby(\"track\").size()\n",
    "tracks = set(track_counts[track_counts >= count_const].index.values)"
   ],
   "metadata": {
    "collapsed": false,
    "pycharm": {
     "name": "#%%\n"
    }
   }
  },
  {
   "cell_type": "code",
   "execution_count": 17,
   "outputs": [
    {
     "data": {
      "text/plain": "(7056, 3297)"
     },
     "execution_count": 17,
     "metadata": {},
     "output_type": "execute_result"
    }
   ],
   "source": [
    "len(users), len(tracks)"
   ],
   "metadata": {
    "collapsed": false,
    "pycharm": {
     "name": "#%%\n"
    }
   }
  },
  {
   "cell_type": "code",
   "execution_count": 18,
   "outputs": [
    {
     "data": {
      "text/plain": "(19112, 8140, 27252)"
     },
     "execution_count": 18,
     "metadata": {},
     "output_type": "execute_result"
    }
   ],
   "source": [
    "# train LightFM\n",
    "train_data = positives[~positives[\"test\"] & positives[\"user\"].isin(users) & positives[\"track\"].isin(tracks)]\n",
    "test_data = positives[positives[\"test\"] & positives[\"user\"].isin(users) & positives[\"track\"].isin(tracks)]\n",
    "all_data = positives[positives[\"user\"].isin(users) & positives[\"track\"].isin(tracks)]\n",
    "\n",
    "len(train_data), len(test_data), len(all_data)"
   ],
   "metadata": {
    "collapsed": false,
    "pycharm": {
     "name": "#%%\n"
    }
   }
  },
  {
   "cell_type": "code",
   "execution_count": null,
   "outputs": [],
   "source": [
    "# for idea with users embeddings\n",
    "\n",
    "# users_features_cols = users_descriptions_detailed.columns.values.tolist()\n",
    "# users_features_cols.remove('user')\n",
    "# users_features = []\n",
    "# for _, row in users_descriptions_detailed.iterrows():\n",
    "#     if row['user'] in users:\n",
    "#         users_features.append((int(row['user']), row[users_features_cols].to_dict()))\n",
    "# users_features[0]"
   ],
   "metadata": {
    "collapsed": false,
    "pycharm": {
     "name": "#%%\n",
     "is_executing": true
    }
   }
  },
  {
   "cell_type": "code",
   "execution_count": 19,
   "outputs": [],
   "source": [
    "dataset = ld.Dataset()\n",
    "# for idea with users embeddings\n",
    "# dataset.fit(users, tracks, user_features=users_features_cols)\n",
    "dataset.fit(users, tracks)"
   ],
   "metadata": {
    "collapsed": false,
    "pycharm": {
     "name": "#%%\n"
    }
   }
  },
  {
   "cell_type": "code",
   "execution_count": null,
   "outputs": [],
   "source": [
    "# users_features_matrix = dataset.build_user_features(users_features)"
   ],
   "metadata": {
    "collapsed": false,
    "pycharm": {
     "name": "#%%\n",
     "is_executing": true
    }
   }
  },
  {
   "cell_type": "code",
   "execution_count": 20,
   "outputs": [],
   "source": [
    "train_interactions, _ = dataset.build_interactions(train_data[[\"user\", \"track\"]].itertuples(index=False, name=None))\n",
    "test_interactions, _ = dataset.build_interactions(test_data[[\"user\", \"track\"]].itertuples(index=False, name=None))\n",
    "data_interactions, _ = dataset.build_interactions(all_data[[\"user\", \"track\"]].itertuples(index=False, name=None))"
   ],
   "metadata": {
    "collapsed": false,
    "pycharm": {
     "name": "#%%\n"
    }
   }
  },
  {
   "cell_type": "code",
   "execution_count": 21,
   "outputs": [],
   "source": [
    "def fit_model(epochs=1, at=10, loss=\"warp\", no_components=30, learning_rate=0.01, max_sampled=10, user_alpha=0.0,\n",
    "              item_alpha=0.0, threads=30, verbose=False):\n",
    "    model_fm = lightfm.LightFM(\n",
    "        no_components=no_components,\n",
    "        loss=loss,\n",
    "        learning_rate=learning_rate,\n",
    "        max_sampled=max_sampled,\n",
    "        user_alpha=user_alpha,\n",
    "        item_alpha=item_alpha,\n",
    "    )\n",
    "\n",
    "    precisions_at_fm = []\n",
    "\n",
    "    for epoch in range(epochs):\n",
    "        model_fm = model_fm.fit_partial(train_interactions, num_threads=threads)\n",
    "        precision_at = lv.precision_at_k(model_fm, test_interactions, train_interactions=train_interactions, k=at,\n",
    "                                         num_threads=threads)\n",
    "        if verbose:\n",
    "            print(f\"{epoch}:\\t{np.mean(precision_at)} +/- {ss.sem(precision_at) * 1.96}\")\n",
    "        precisions_at_fm.append(np.mean(precision_at))\n",
    "\n",
    "    return model_fm, precisions_at_fm\n",
    "\n",
    "\n",
    "def objective(trial):\n",
    "    loss = trial.suggest_categorical(\"loss\", [\"warp\", \"bpr\"])\n",
    "    no_components = trial.suggest_categorical(\"no_components\", [10, 30, 50])\n",
    "    learning_rate = trial.suggest_categorical(\"learning_rate\", [0.0001, 0.001, 0.01])\n",
    "    max_sampled = trial.suggest_categorical(\"max_sampled\", [10, 20, 50, 100])\n",
    "    user_alpha = trial.suggest_categorical(\"user_alpha\", [0.0, 0.0001])\n",
    "    item_alpha = trial.suggest_categorical(\"item_alpha\", [0.0, 0.0001])\n",
    "\n",
    "    model_fm, precisions_at_fm = fit_model(\n",
    "        epochs=5,\n",
    "        at=10,\n",
    "        loss=loss,\n",
    "        no_components=no_components,\n",
    "        learning_rate=learning_rate,\n",
    "        max_sampled=max_sampled,\n",
    "        user_alpha=user_alpha,\n",
    "        item_alpha=item_alpha,\n",
    "    )\n",
    "\n",
    "    return precisions_at_fm[-1]"
   ],
   "metadata": {
    "collapsed": false,
    "pycharm": {
     "name": "#%%\n"
    }
   }
  },
  {
   "cell_type": "code",
   "execution_count": 22,
   "outputs": [
    {
     "name": "stderr",
     "output_type": "stream",
     "text": [
      "\u001B[32m[I 2022-04-06 13:50:16,919]\u001B[0m A new study created in memory with name: no-name-8cbd2b64-00b5-481b-a59b-032a566fdc68\u001B[0m\n",
      "\u001B[32m[I 2022-04-06 13:50:37,601]\u001B[0m Trial 0 finished with value: 0.00041955107008107007 and parameters: {'loss': 'bpr', 'no_components': 30, 'learning_rate': 0.01, 'max_sampled': 20, 'user_alpha': 0.0001, 'item_alpha': 0.0}. Best is trial 0 with value: 0.00041955107008107007.\u001B[0m\n",
      "\u001B[32m[I 2022-04-06 13:50:46,147]\u001B[0m Trial 1 finished with value: 0.005034612957388163 and parameters: {'loss': 'warp', 'no_components': 10, 'learning_rate': 0.001, 'max_sampled': 100, 'user_alpha': 0.0001, 'item_alpha': 0.0001}. Best is trial 1 with value: 0.005034612957388163.\u001B[0m\n",
      "\u001B[32m[I 2022-04-06 13:51:09,677]\u001B[0m Trial 2 finished with value: 0.0003775959776248783 and parameters: {'loss': 'bpr', 'no_components': 50, 'learning_rate': 0.01, 'max_sampled': 20, 'user_alpha': 0.0001, 'item_alpha': 0.0}. Best is trial 1 with value: 0.005034612957388163.\u001B[0m\n",
      "\u001B[32m[I 2022-04-06 13:51:29,217]\u001B[0m Trial 3 finished with value: 0.0010488777188584208 and parameters: {'loss': 'bpr', 'no_components': 30, 'learning_rate': 0.01, 'max_sampled': 100, 'user_alpha': 0.0, 'item_alpha': 0.0}. Best is trial 1 with value: 0.005034612957388163.\u001B[0m\n",
      "\u001B[32m[I 2022-04-06 13:51:45,378]\u001B[0m Trial 4 finished with value: 0.0003566184313967824 and parameters: {'loss': 'bpr', 'no_components': 30, 'learning_rate': 0.01, 'max_sampled': 50, 'user_alpha': 0.0, 'item_alpha': 0.0001}. Best is trial 1 with value: 0.005034612957388163.\u001B[0m\n",
      "\u001B[32m[I 2022-04-06 13:52:02,789]\u001B[0m Trial 5 finished with value: 0.0042794207111001015 and parameters: {'loss': 'warp', 'no_components': 30, 'learning_rate': 0.0001, 'max_sampled': 10, 'user_alpha': 0.0001, 'item_alpha': 0.0}. Best is trial 1 with value: 0.005034612957388163.\u001B[0m\n",
      "\u001B[32m[I 2022-04-06 13:52:17,251]\u001B[0m Trial 6 finished with value: 0.00100692268460989 and parameters: {'loss': 'bpr', 'no_components': 30, 'learning_rate': 0.01, 'max_sampled': 20, 'user_alpha': 0.0, 'item_alpha': 0.0001}. Best is trial 1 with value: 0.005034612957388163.\u001B[0m\n",
      "\u001B[32m[I 2022-04-06 13:52:30,869]\u001B[0m Trial 7 finished with value: 0.004468218889087439 and parameters: {'loss': 'warp', 'no_components': 30, 'learning_rate': 0.0001, 'max_sampled': 100, 'user_alpha': 0.0001, 'item_alpha': 0.0001}. Best is trial 1 with value: 0.005034612957388163.\u001B[0m\n",
      "\u001B[32m[I 2022-04-06 13:52:44,487]\u001B[0m Trial 8 finished with value: 0.0006712817121297121 and parameters: {'loss': 'bpr', 'no_components': 30, 'learning_rate': 0.001, 'max_sampled': 10, 'user_alpha': 0.0, 'item_alpha': 0.0001}. Best is trial 1 with value: 0.005034612957388163.\u001B[0m\n",
      "\u001B[32m[I 2022-04-06 13:52:56,922]\u001B[0m Trial 9 finished with value: 0.004950702656060457 and parameters: {'loss': 'warp', 'no_components': 30, 'learning_rate': 0.001, 'max_sampled': 20, 'user_alpha': 0.0001, 'item_alpha': 0.0001}. Best is trial 1 with value: 0.005034612957388163.\u001B[0m\n",
      "\u001B[32m[I 2022-04-06 13:53:10,102]\u001B[0m Trial 10 finished with value: 0.004929725080728531 and parameters: {'loss': 'warp', 'no_components': 10, 'learning_rate': 0.001, 'max_sampled': 100, 'user_alpha': 0.0001, 'item_alpha': 0.0001}. Best is trial 1 with value: 0.005034612957388163.\u001B[0m\n",
      "\u001B[32m[I 2022-04-06 13:53:18,794]\u001B[0m Trial 11 finished with value: 0.004531151615083218 and parameters: {'loss': 'warp', 'no_components': 10, 'learning_rate': 0.001, 'max_sampled': 50, 'user_alpha': 0.0001, 'item_alpha': 0.0001}. Best is trial 1 with value: 0.005034612957388163.\u001B[0m\n",
      "\u001B[32m[I 2022-04-06 13:53:27,084]\u001B[0m Trial 12 finished with value: 0.004615061916410923 and parameters: {'loss': 'warp', 'no_components': 10, 'learning_rate': 0.001, 'max_sampled': 100, 'user_alpha': 0.0001, 'item_alpha': 0.0001}. Best is trial 1 with value: 0.005034612957388163.\u001B[0m\n",
      "\u001B[32m[I 2022-04-06 13:53:44,956]\u001B[0m Trial 13 finished with value: 0.004677994642406702 and parameters: {'loss': 'warp', 'no_components': 50, 'learning_rate': 0.001, 'max_sampled': 20, 'user_alpha': 0.0001, 'item_alpha': 0.0001}. Best is trial 1 with value: 0.005034612957388163.\u001B[0m\n",
      "\u001B[32m[I 2022-04-06 13:53:53,814]\u001B[0m Trial 14 finished with value: 0.004594084806740284 and parameters: {'loss': 'warp', 'no_components': 10, 'learning_rate': 0.001, 'max_sampled': 100, 'user_alpha': 0.0001, 'item_alpha': 0.0001}. Best is trial 1 with value: 0.005034612957388163.\u001B[0m\n",
      "\u001B[32m[I 2022-04-06 13:54:01,890]\u001B[0m Trial 15 finished with value: 0.004677994176745415 and parameters: {'loss': 'warp', 'no_components': 10, 'learning_rate': 0.001, 'max_sampled': 20, 'user_alpha': 0.0001, 'item_alpha': 0.0001}. Best is trial 1 with value: 0.005034612957388163.\u001B[0m\n",
      "\u001B[32m[I 2022-04-06 13:54:20,423]\u001B[0m Trial 16 finished with value: 0.004698972217738628 and parameters: {'loss': 'warp', 'no_components': 50, 'learning_rate': 0.001, 'max_sampled': 10, 'user_alpha': 0.0001, 'item_alpha': 0.0001}. Best is trial 1 with value: 0.005034612957388163.\u001B[0m\n",
      "\u001B[32m[I 2022-04-06 13:54:29,094]\u001B[0m Trial 17 finished with value: 0.0012376757804304361 and parameters: {'loss': 'warp', 'no_components': 10, 'learning_rate': 0.0001, 'max_sampled': 50, 'user_alpha': 0.0001, 'item_alpha': 0.0001}. Best is trial 1 with value: 0.005034612957388163.\u001B[0m\n",
      "\u001B[32m[I 2022-04-06 13:54:40,074]\u001B[0m Trial 18 finished with value: 0.004594084341078997 and parameters: {'loss': 'warp', 'no_components': 10, 'learning_rate': 0.001, 'max_sampled': 20, 'user_alpha': 0.0, 'item_alpha': 0.0}. Best is trial 1 with value: 0.005034612957388163.\u001B[0m\n",
      "\u001B[32m[I 2022-04-06 13:55:00,631]\u001B[0m Trial 19 finished with value: 0.004489196930080652 and parameters: {'loss': 'warp', 'no_components': 50, 'learning_rate': 0.001, 'max_sampled': 100, 'user_alpha': 0.0001, 'item_alpha': 0.0001}. Best is trial 1 with value: 0.005034612957388163.\u001B[0m\n",
      "\u001B[32m[I 2022-04-06 13:55:10,172]\u001B[0m Trial 20 finished with value: 0.0012376757804304361 and parameters: {'loss': 'warp', 'no_components': 10, 'learning_rate': 0.0001, 'max_sampled': 100, 'user_alpha': 0.0001, 'item_alpha': 0.0001}. Best is trial 1 with value: 0.005034612957388163.\u001B[0m\n",
      "\u001B[32m[I 2022-04-06 13:55:22,055]\u001B[0m Trial 21 finished with value: 0.004615061916410923 and parameters: {'loss': 'warp', 'no_components': 10, 'learning_rate': 0.001, 'max_sampled': 100, 'user_alpha': 0.0001, 'item_alpha': 0.0001}. Best is trial 1 with value: 0.005034612957388163.\u001B[0m\n",
      "\u001B[32m[I 2022-04-06 13:55:32,929]\u001B[0m Trial 22 finished with value: 0.004908747971057892 and parameters: {'loss': 'warp', 'no_components': 10, 'learning_rate': 0.001, 'max_sampled': 100, 'user_alpha': 0.0001, 'item_alpha': 0.0001}. Best is trial 1 with value: 0.005034612957388163.\u001B[0m\n",
      "\u001B[32m[I 2022-04-06 13:55:45,751]\u001B[0m Trial 23 finished with value: 0.004929725080728531 and parameters: {'loss': 'warp', 'no_components': 10, 'learning_rate': 0.001, 'max_sampled': 100, 'user_alpha': 0.0001, 'item_alpha': 0.0001}. Best is trial 1 with value: 0.005034612957388163.\u001B[0m\n",
      "\u001B[32m[I 2022-04-06 13:55:55,130]\u001B[0m Trial 24 finished with value: 0.004363331012427807 and parameters: {'loss': 'warp', 'no_components': 10, 'learning_rate': 0.001, 'max_sampled': 100, 'user_alpha': 0.0001, 'item_alpha': 0.0001}. Best is trial 1 with value: 0.005034612957388163.\u001B[0m\n",
      "\u001B[32m[I 2022-04-06 13:56:10,087]\u001B[0m Trial 25 finished with value: 0.004908747971057892 and parameters: {'loss': 'warp', 'no_components': 30, 'learning_rate': 0.001, 'max_sampled': 20, 'user_alpha': 0.0001, 'item_alpha': 0.0001}. Best is trial 1 with value: 0.005034612957388163.\u001B[0m\n",
      "\u001B[32m[I 2022-04-06 13:56:20,305]\u001B[0m Trial 26 finished with value: 0.004573107231408358 and parameters: {'loss': 'warp', 'no_components': 10, 'learning_rate': 0.001, 'max_sampled': 10, 'user_alpha': 0.0, 'item_alpha': 0.0}. Best is trial 1 with value: 0.005034612957388163.\u001B[0m\n",
      "\u001B[32m[I 2022-04-06 13:56:33,951]\u001B[0m Trial 27 finished with value: 0.004929725080728531 and parameters: {'loss': 'warp', 'no_components': 30, 'learning_rate': 0.001, 'max_sampled': 50, 'user_alpha': 0.0001, 'item_alpha': 0.0001}. Best is trial 1 with value: 0.005034612957388163.\u001B[0m\n",
      "\u001B[32m[I 2022-04-06 13:56:48,418]\u001B[0m Trial 28 finished with value: 0.0043213763274252415 and parameters: {'loss': 'warp', 'no_components': 30, 'learning_rate': 0.001, 'max_sampled': 50, 'user_alpha': 0.0001, 'item_alpha': 0.0001}. Best is trial 1 with value: 0.005034612957388163.\u001B[0m\n",
      "\u001B[32m[I 2022-04-06 13:57:13,256]\u001B[0m Trial 29 finished with value: 0.0005873715272173285 and parameters: {'loss': 'bpr', 'no_components': 50, 'learning_rate': 0.0001, 'max_sampled': 20, 'user_alpha': 0.0001, 'item_alpha': 0.0}. Best is trial 1 with value: 0.005034612957388163.\u001B[0m\n"
     ]
    }
   ],
   "source": [
    "study = optuna.create_study(direction=\"maximize\")\n",
    "study.optimize(objective, n_trials=30)\n",
    "best_params = study.best_params\n",
    "\n",
    "# best_params = {'loss': 'warp', 'no_components': 10, 'learning_rate': 0.001, 'max_sampled': 100, 'user_alpha': 0.0001, 'item_alpha': 0.0001}"
   ],
   "metadata": {
    "collapsed": false,
    "pycharm": {
     "name": "#%%\n"
    }
   }
  },
  {
   "cell_type": "code",
   "execution_count": 23,
   "outputs": [
    {
     "data": {
      "text/plain": "{'loss': 'warp',\n 'no_components': 10,\n 'learning_rate': 0.001,\n 'max_sampled': 100,\n 'user_alpha': 0.0001,\n 'item_alpha': 0.0001}"
     },
     "execution_count": 23,
     "metadata": {},
     "output_type": "execute_result"
    }
   ],
   "source": [
    "best_params"
   ],
   "metadata": {
    "collapsed": false,
    "pycharm": {
     "name": "#%%\n"
    }
   }
  },
  {
   "cell_type": "code",
   "execution_count": 24,
   "outputs": [],
   "source": [
    "model = lightfm.LightFM(\n",
    "    no_components=best_params[\"no_components\"],\n",
    "    loss=best_params[\"loss\"],\n",
    "    learning_rate=best_params[\"learning_rate\"],\n",
    "    max_sampled=best_params[\"max_sampled\"],\n",
    "    user_alpha=best_params[\"user_alpha\"],\n",
    "    item_alpha=best_params[\"item_alpha\"],\n",
    ")\n",
    "model = model.fit_partial(data_interactions, num_threads=30, epochs=200)"
   ],
   "metadata": {
    "collapsed": false,
    "pycharm": {
     "name": "#%%\n"
    }
   }
  },
  {
   "cell_type": "code",
   "execution_count": 25,
   "outputs": [],
   "source": [
    "items_embeddings = (model.item_embeddings.T\n",
    "                      / np.linalg.norm(model.item_embeddings, axis=1)).T\n",
    "\n",
    "users_embeddings = (model.user_embeddings.T\n",
    "                      / np.linalg.norm(model.user_embeddings, axis=1)).T"
   ],
   "metadata": {
    "collapsed": false,
    "pycharm": {
     "name": "#%%\n"
    }
   }
  },
  {
   "cell_type": "code",
   "execution_count": 26,
   "outputs": [
    {
     "data": {
      "text/plain": "      user\n0        1\n1        2\n2        3\n3        4\n4        6\n...    ...\n7051  9992\n7052  9994\n7053  9995\n7054  9996\n7055  9997\n\n[7056 rows x 1 columns]",
      "text/html": "<div>\n<style scoped>\n    .dataframe tbody tr th:only-of-type {\n        vertical-align: middle;\n    }\n\n    .dataframe tbody tr th {\n        vertical-align: top;\n    }\n\n    .dataframe thead th {\n        text-align: right;\n    }\n</style>\n<table border=\"1\" class=\"dataframe\">\n  <thead>\n    <tr style=\"text-align: right;\">\n      <th></th>\n      <th>user</th>\n    </tr>\n  </thead>\n  <tbody>\n    <tr>\n      <th>0</th>\n      <td>1</td>\n    </tr>\n    <tr>\n      <th>1</th>\n      <td>2</td>\n    </tr>\n    <tr>\n      <th>2</th>\n      <td>3</td>\n    </tr>\n    <tr>\n      <th>3</th>\n      <td>4</td>\n    </tr>\n    <tr>\n      <th>4</th>\n      <td>6</td>\n    </tr>\n    <tr>\n      <th>...</th>\n      <td>...</td>\n    </tr>\n    <tr>\n      <th>7051</th>\n      <td>9992</td>\n    </tr>\n    <tr>\n      <th>7052</th>\n      <td>9994</td>\n    </tr>\n    <tr>\n      <th>7053</th>\n      <td>9995</td>\n    </tr>\n    <tr>\n      <th>7054</th>\n      <td>9996</td>\n    </tr>\n    <tr>\n      <th>7055</th>\n      <td>9997</td>\n    </tr>\n  </tbody>\n</table>\n<p>7056 rows × 1 columns</p>\n</div>"
     },
     "execution_count": 26,
     "metadata": {},
     "output_type": "execute_result"
    }
   ],
   "source": [
    "user_meta = pd.DataFrame(data=users, columns=['user'])\n",
    "user_meta"
   ],
   "metadata": {
    "collapsed": false,
    "pycharm": {
     "name": "#%%\n"
    }
   }
  },
  {
   "cell_type": "code",
   "execution_count": 27,
   "outputs": [],
   "source": [
    "all_tracks[\"dataset_index\"] = all_tracks[\"track\"].map(lambda t: dataset.mapping()[2].get(t))\n",
    "user_meta[\"dataset_index\"] = user_meta[\"user\"].map(lambda t: dataset.mapping()[0].get(t))"
   ],
   "metadata": {
    "collapsed": false,
    "pycharm": {
     "name": "#%%\n"
    }
   }
  },
  {
   "cell_type": "code",
   "execution_count": 28,
   "outputs": [
    {
     "data": {
      "text/plain": "(3297, 7056)"
     },
     "execution_count": 28,
     "metadata": {},
     "output_type": "execute_result"
    }
   ],
   "source": [
    "dataset_tracks = all_tracks[pd.notnull(all_tracks[\"dataset_index\"])].sort_values(\"dataset_index\")\n",
    "dataset_users = user_meta[pd.notnull(user_meta[\"dataset_index\"])].sort_values(\"dataset_index\")\n",
    "len(dataset_tracks), len(dataset_users)"
   ],
   "metadata": {
    "collapsed": false,
    "pycharm": {
     "name": "#%%\n"
    }
   }
  },
  {
   "cell_type": "code",
   "execution_count": 29,
   "outputs": [],
   "source": [
    "writer = tb.SummaryWriter(comment='msd_ligtfm_embeddings', log_dir=TENSORBOARD_DIR)\n",
    "writer.add_embedding(items_embeddings,\n",
    "                     metadata=list(dataset_tracks[[\"artist\", \"title\"]].itertuples(index=False, name=None)),\n",
    "                     tag=\"lightfm\", metadata_header=[\"artist\", \"title\"])\n",
    "writer.close()"
   ],
   "metadata": {
    "collapsed": false,
    "pycharm": {
     "name": "#%%\n"
    }
   }
  },
  {
   "cell_type": "code",
   "execution_count": 30,
   "outputs": [
    {
     "name": "stderr",
     "output_type": "stream",
     "text": [
      "50000it [01:15, 666.06it/s] \n"
     ]
    }
   ],
   "source": [
    "k = 20\n",
    "max_tracks_from_same_artist = 10\n",
    "\n",
    "with open(DATA_DIR + f\"recommendations_tracks_{k}_{max_tracks_from_same_artist}.json\", \"w\") as rf:\n",
    "    for _, track in tqdm.tqdm(all_tracks.iterrows()):\n",
    "        j = track[\"dataset_index\"]\n",
    "\n",
    "        recommendations = []\n",
    "        if pd.notna(j):\n",
    "            embedding = items_embeddings[int(j)]\n",
    "            neighbours = np.argsort(-np.dot(items_embeddings, embedding))\n",
    "\n",
    "            artists = defaultdict(int)\n",
    "            for neighbour in neighbours:\n",
    "                recommended_track = dataset_tracks[dataset_tracks[\"dataset_index\"] == neighbour].iloc[0]\n",
    "\n",
    "                recommendation = int(recommended_track[\"track\"])\n",
    "                if recommendation == track[\"track\"]:\n",
    "                    continue\n",
    "\n",
    "                artist = recommended_track[\"artist\"]\n",
    "                if artists[artist] >= max_tracks_from_same_artist:\n",
    "                    continue\n",
    "\n",
    "                recommendations.append(recommendation)\n",
    "                artists[artist] += 1\n",
    "\n",
    "                if len(recommendations) == k:\n",
    "                    break\n",
    "\n",
    "        track_with_recommendations = dict(track)\n",
    "        track_with_recommendations[\"recommendations\"] = recommendations\n",
    "\n",
    "        rf.write(json.dumps(track_with_recommendations) + \"\\n\")"
   ],
   "metadata": {
    "collapsed": false,
    "pycharm": {
     "name": "#%%\n"
    }
   }
  },
  {
   "cell_type": "code",
   "execution_count": 77,
   "outputs": [
    {
     "name": "stderr",
     "output_type": "stream",
     "text": [
      "7056it [00:58, 120.41it/s]\n"
     ]
    }
   ],
   "source": [
    "count_similar_users = 5\n",
    "with open(DATA_DIR + f\"similar_users_{count_similar_users}.json\", \"w\") as rf:\n",
    "    for _, user in tqdm.tqdm(user_meta.iterrows()):\n",
    "        j = user[\"dataset_index\"]\n",
    "\n",
    "        similar = []\n",
    "        if pd.notna(j):\n",
    "            embedding = users_embeddings[int(j)]\n",
    "            neighbours = np.argsort(-np.dot(users_embeddings, embedding))\n",
    "\n",
    "            for neighbour in neighbours:\n",
    "                recommended_user = dataset_users[dataset_users[\"dataset_index\"] == neighbour].iloc[0]\n",
    "\n",
    "                recommendation = int(recommended_user[\"user\"])\n",
    "                if recommendation == user[\"user\"]:\n",
    "                    continue\n",
    "\n",
    "                similar.append(recommendation)\n",
    "\n",
    "                if len(similar) == count_similar_users:\n",
    "                    break\n",
    "\n",
    "        user_with_similar = dict()\n",
    "        user_with_similar[\"user\"] = int(user[\"user\"])\n",
    "        user_with_similar[\"similar\"] = similar\n",
    "\n",
    "        rf.write(json.dumps(user_with_similar) + \"\\n\")"
   ],
   "metadata": {
    "collapsed": false,
    "pycharm": {
     "name": "#%%\n"
    }
   }
  },
  {
   "cell_type": "code",
   "execution_count": 66,
   "outputs": [],
   "source": [
    "tracks = dataset_tracks[\"track\"].values\n",
    "users = [user for user, index in sorted(dataset.mapping()[0].items(), key=lambda kv: kv[1])]"
   ],
   "metadata": {
    "collapsed": false,
    "pycharm": {
     "name": "#%%\n"
    }
   }
  },
  {
   "cell_type": "code",
   "execution_count": 75,
   "outputs": [],
   "source": [
    "int_users_to_ext_users = {v: k for k, v in dataset.mapping()[0].items()}\n",
    "ext_users_to_int_users = dataset.mapping()[0]\n",
    "\n",
    "int_items_to_ext_items = {v: k for k, v in dataset.mapping()[2].items()}\n",
    "ext_items_to_int_items = dataset.mapping()[2]"
   ],
   "metadata": {
    "collapsed": false,
    "pycharm": {
     "name": "#%%\n"
    }
   }
  },
  {
   "cell_type": "code",
   "execution_count": 76,
   "outputs": [
    {
     "name": "stderr",
     "output_type": "stream",
     "text": [
      "100%|██████████| 7056/7056 [00:19<00:00, 369.93it/s]\n"
     ]
    }
   ],
   "source": [
    "with open(DATA_DIR + \"recommendations_users.json\", \"w\") as rf:\n",
    "    for user_index in tqdm.tqdm(int_users_to_ext_users.keys()):\n",
    "        predictions = model.predict(user_index, list(int_items_to_ext_items.keys()), num_threads=30)\n",
    "        top = [list(int_items_to_ext_items.keys())[x] for x in np.argsort(predictions)[-20:]]\n",
    "        recommendation = {\n",
    "            \"user\": int(int_users_to_ext_users.get(user_index)),\n",
    "            \"tracks\": [int(x) for x in top]\n",
    "        }\n",
    "        rf.write(json.dumps(recommendation) + \"\\n\")"
   ],
   "metadata": {
    "collapsed": false,
    "pycharm": {
     "name": "#%%\n"
    }
   }
  },
  {
   "cell_type": "code",
   "execution_count": null,
   "outputs": [],
   "source": [],
   "metadata": {
    "collapsed": false,
    "pycharm": {
     "name": "#%%\n"
    }
   }
  }
 ],
 "metadata": {
  "kernelspec": {
   "display_name": "Python 3",
   "language": "python",
   "name": "python3"
  },
  "language_info": {
   "codemirror_mode": {
    "name": "ipython",
    "version": 2
   },
   "file_extension": ".py",
   "mimetype": "text/x-python",
   "name": "python",
   "nbconvert_exporter": "python",
   "pygments_lexer": "ipython2",
   "version": "2.7.6"
  }
 },
 "nbformat": 4,
 "nbformat_minor": 0
}